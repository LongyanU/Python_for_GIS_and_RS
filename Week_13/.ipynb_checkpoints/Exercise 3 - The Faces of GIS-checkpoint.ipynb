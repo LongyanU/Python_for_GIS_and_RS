{
 "cells": [
  {
   "cell_type": "markdown",
   "metadata": {},
   "source": [
    "Refer here for instructions to [download and run this sample locally](https://developers.arcgis.com/python/sample-notebooks/#Download-and-run-the-sample-notebooks) on your computer"
   ]
  },
  {
   "cell_type": "markdown",
   "metadata": {},
   "source": [
    "# Faces of GIS\n",
    "\n",
    "This sample notebook tries to re-create Esri's [Faces of GIS](https://www.flickr.com/photos/esri/sets/72157627065236829/) flickr stream using public ArcGIS Online profiles.\n",
    "\n",
    "It iterates over a list of common last names from a .csv file and searches ArcGIS Online for users matching those last names.  Then it displays the user's profile if the users' profile contains a thumbnail. \n",
    "\n",
    "Organization administrators can search for members in their ArcGIS Online organizaiton or an internal portal in a similar manner and update their properties as needed."
   ]
  },
  {
   "cell_type": "code",
   "execution_count": null,
   "metadata": {
    "collapsed": false
   },
   "outputs": [],
   "source": [
    "import pandas as pd\n",
    "from arcgis.gis import GIS\n",
    "from IPython.display import display"
   ]
  },
  {
   "cell_type": "markdown",
   "metadata": {},
   "source": [
    "## Data preparation\n",
    "\n",
    "To run through the sample, we prepare a .csv file that contains a list of common last names.  Then we use a Python data analysis library called pandas to read the file as input to do a search for users from ArcGIS Online."
   ]
  },
  {
   "cell_type": "code",
   "execution_count": null,
   "metadata": {
    "collapsed": false
   },
   "outputs": [],
   "source": [
    "cd C:\\Users\\greg6750\\Documents\\IPython Notebooks\\Python_for_GIS_and_RS\\Week_13\\data"
   ]
  },
  {
   "cell_type": "code",
   "execution_count": null,
   "metadata": {
    "collapsed": false
   },
   "outputs": [],
   "source": [
    "df = pd.read_csv('lastnames.csv')\n",
    "df[:3]"
   ]
  },
  {
   "cell_type": "code",
   "execution_count": null,
   "metadata": {
    "collapsed": false
   },
   "outputs": [],
   "source": [
    "gis = GIS()\n",
    "\n",
    "for index, row in df.iterrows():\n",
    "    if index == 6:\n",
    "        break\n",
    "    users = gis.users.search(row['Surname'])\n",
    "    for user in users:\n",
    "        if user['thumbnail'] is not None:\n",
    "            display(user)"
   ]
  }
 ],
 "metadata": {
  "anaconda-cloud": {},
  "kernelspec": {
   "display_name": "Python [default]",
   "language": "python",
   "name": "python3"
  },
  "language_info": {
   "codemirror_mode": {
    "name": "ipython",
    "version": 3
   },
   "file_extension": ".py",
   "mimetype": "text/x-python",
   "name": "python",
   "nbconvert_exporter": "python",
   "pygments_lexer": "ipython3",
   "version": "3.4.5"
  }
 },
 "nbformat": 4,
 "nbformat_minor": 0
}
