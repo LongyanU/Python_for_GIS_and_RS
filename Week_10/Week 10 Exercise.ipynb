{
 "cells": [
  {
   "cell_type": "code",
   "execution_count": 5,
   "metadata": {
    "collapsed": true
   },
   "outputs": [],
   "source": [
    "import arcpy\n",
    "import os"
   ]
  },
  {
   "cell_type": "code",
   "execution_count": 18,
   "metadata": {
    "collapsed": true
   },
   "outputs": [],
   "source": [
    "image_dir = r\"C:\\Student\\DEM\"\n",
    "output_gdb = r\"C:\\Student\\mosaic.gdb\"\n",
    "mosaic_name = \"world_elevation\"\n",
    "\n",
    "arcpy.env.workspace = image_dir\n",
    "image_list = arcpy.ListRasters()"
   ]
  },
  {
   "cell_type": "code",
   "execution_count": 11,
   "metadata": {
    "collapsed": false
   },
   "outputs": [
    {
     "name": "stdout",
     "output_type": "stream",
     "text": [
      "['af_dem.tif', 'as_dem.tif', 'au_dem.tif', 'ca_dem.tif', 'eu_dem.tif', 'na_dem.tif', 'sa_dem.tif']\n"
     ]
    },
    {
     "data": {
      "text/plain": [
       "'C:\\\\Student'"
      ]
     },
     "execution_count": 11,
     "metadata": {},
     "output_type": "execute_result"
    }
   ],
   "source": [
    "print(image_list)\n",
    "os.path.split(output_gdb)[0]"
   ]
  },
  {
   "cell_type": "code",
   "execution_count": 13,
   "metadata": {
    "collapsed": false
   },
   "outputs": [],
   "source": [
    "if arcpy.Exists(output_gdb) != True:\n",
    "    arcpy.CreateFileGDB_management(os.path.split(output_gdb)[0], os.path.split(output_gdb)[1])\n",
    "else:\n",
    "    print(\"File Geodatabase exists!\")"
   ]
  },
  {
   "cell_type": "code",
   "execution_count": 19,
   "metadata": {
    "collapsed": false
   },
   "outputs": [
    {
     "name": "stdout",
     "output_type": "stream",
     "text": [
      "GCS_WGS_1984\n",
      "mosaic created\n"
     ]
    }
   ],
   "source": [
    "#http://pro.arcgis.com/en/pro-app/tool-reference/data-management/create-mosaic-dataset.htm\n",
    "projection = arcpy.SpatialReference(4326)\n",
    "print(projection.name)\n",
    "arcpy.CreateMosaicDataset_management(output_gdb, mosaic_name, projection)\n",
    "print(\"Mosaic Dataset Created.\")"
   ]
  },
  {
   "cell_type": "code",
   "execution_count": 20,
   "metadata": {
    "collapsed": false
   },
   "outputs": [
    {
     "name": "stdout",
     "output_type": "stream",
     "text": [
      "Rasters Added to Mosaic.\n"
     ]
    }
   ],
   "source": [
    "#http://pro.arcgis.com/en/pro-app/tool-reference/data-management/add-rasters-to-mosaic-dataset.htm\n",
    "rasttype = \"Raster Dataset\"\n",
    "updatecs = \"UPDATE_CELL_SIZES\"\n",
    "updatebnd = \"UPDATE_BOUNDARY\"\n",
    "updateovr =  \"UPDATE_OVERVIEWS\"\n",
    "arcpy.AddRastersToMosaicDataset_management(os.path.join(output_gdb, mosaic_name), rasttype, image_list, updatecs, updatebnd, updateovr)\n",
    "print(\"Rasters Added to Mosaic.\")"
   ]
  },
  {
   "cell_type": "code",
   "execution_count": 21,
   "metadata": {
    "collapsed": false
   },
   "outputs": [
    {
     "name": "stdout",
     "output_type": "stream",
     "text": [
      "Statistics Calculated.\n"
     ]
    }
   ],
   "source": [
    "arcpy.CalculateStatistics_management(os.path.join(output_gdb, mosaic_name), \"5\", \"5\")\n",
    "print(\"Statistics Calculated.\")"
   ]
  },
  {
   "cell_type": "code",
   "execution_count": null,
   "metadata": {
    "collapsed": true
   },
   "outputs": [],
   "source": []
  }
 ],
 "metadata": {
  "kernelspec": {
   "display_name": "Python 3",
   "language": "python",
   "name": "python3"
  },
  "language_info": {
   "codemirror_mode": {
    "name": "ipython",
    "version": 3
   },
   "file_extension": ".py",
   "mimetype": "text/x-python",
   "name": "python",
   "nbconvert_exporter": "python",
   "pygments_lexer": "ipython3",
   "version": "3.5.3"
  }
 },
 "nbformat": 4,
 "nbformat_minor": 2
}
