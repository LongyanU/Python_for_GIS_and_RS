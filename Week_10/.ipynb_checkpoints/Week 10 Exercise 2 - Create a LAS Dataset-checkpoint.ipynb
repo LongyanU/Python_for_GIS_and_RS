{
 "cells": [
  {
   "cell_type": "code",
   "execution_count": null,
   "metadata": {
    "collapsed": true
   },
   "outputs": [],
   "source": [
    "import os\n",
    "import arcpy"
   ]
  },
  {
   "cell_type": "code",
   "execution_count": null,
   "metadata": {
    "collapsed": true
   },
   "outputs": [],
   "source": [
    "las_file_folder = r\"C:\\Student\\LIDAR\"\n",
    "arcpy.env.workspace = las_file_folder"
   ]
  },
  {
   "cell_type": "code",
   "execution_count": null,
   "metadata": {
    "collapsed": false
   },
   "outputs": [],
   "source": [
    "las_dataset_name = \"CentralMissouri.lasd\"\n",
    "arcpy.CreateLasDataset_management(las_file_folder, \n",
    "                                las_dataset_name, \"RECURSION\",\n",
    "                                \"\", \"\", \n",
    "                                \"COMPUTE_STATS\", \"RELATIVE_PATHS\")\n",
    "print(\"LAS Dataset Created.\")"
   ]
  },
  {
   "cell_type": "markdown",
   "metadata": {},
   "source": [
    "# Open ArcMap. Add the LAS Dataset to the Table of Contents. Zoom in until you see Lidar points."
   ]
  },
  {
   "cell_type": "markdown",
   "metadata": {},
   "source": [
    "# Create a Mosaic Dataset from the LAS Dataset\n",
    "## Create Mosaic"
   ]
  },
  {
   "cell_type": "code",
   "execution_count": null,
   "metadata": {
    "collapsed": false
   },
   "outputs": [],
   "source": [
    "wgs_84 = arcpy.SpatialReference(4326)\n",
    "geodatabase = r\"C:\\Student\\mosaic.gdb\"\n",
    "md_name = \"LASD_Mosaic\"\n",
    "arcpy.CreateMosaicDataset_management(geodatabase, md_name,wgs_84)\n",
    "print(\"Mosaic Craeted.\")"
   ]
  },
  {
   "cell_type": "markdown",
   "metadata": {},
   "source": [
    "# Add LAS Dataset to Mosaic Dataset"
   ]
  },
  {
   "cell_type": "code",
   "execution_count": null,
   "metadata": {
    "collapsed": false
   },
   "outputs": [],
   "source": [
    "md = os.path.join(geodatabase, md_name)\n",
    "updatecs = \"UPDATE_CELL_SIZES\"\n",
    "updatebnd = \"UPDATE_BOUNDARY\"\n",
    "updateovr =  \"UPDATE_OVERVIEWS\"\n",
    "arcpy.AddRastersToMosaicDataset_management(md,\n",
    "            \"LAS Dataset @ C:\\Student\\mosaic.gdb\\LAS_Mosaic\\RasterType.OBJECTID=1\",\n",
    "            las_dataset_name, updatecs, \n",
    "            updatebnd, updateovr)"
   ]
  },
  {
   "cell_type": "markdown",
   "metadata": {},
   "source": [
    "# Go Back to ArcMap and see if the the Mosaic Dataset was created"
   ]
  },
  {
   "cell_type": "code",
   "execution_count": null,
   "metadata": {
    "collapsed": true
   },
   "outputs": [],
   "source": []
  }
 ],
 "metadata": {
  "kernelspec": {
   "display_name": "Python 3",
   "language": "python",
   "name": "python3"
  },
  "language_info": {
   "codemirror_mode": {
    "name": "ipython",
    "version": 3
   },
   "file_extension": ".py",
   "mimetype": "text/x-python",
   "name": "python",
   "nbconvert_exporter": "python",
   "pygments_lexer": "ipython3",
   "version": "3.5.3"
  }
 },
 "nbformat": 4,
 "nbformat_minor": 2
}
