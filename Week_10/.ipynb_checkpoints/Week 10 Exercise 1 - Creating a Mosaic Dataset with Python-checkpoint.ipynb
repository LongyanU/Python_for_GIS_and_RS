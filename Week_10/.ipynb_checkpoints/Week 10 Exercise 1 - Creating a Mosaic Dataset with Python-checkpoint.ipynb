{
 "cells": [
  {
   "cell_type": "markdown",
   "metadata": {},
   "source": [
    "In this exercise, you will use Python to create a mosaic dataset. The areas denoted ??? will need to be determined by you."
   ]
  },
  {
   "cell_type": "markdown",
   "metadata": {},
   "source": [
    "# Imports "
   ]
  },
  {
   "cell_type": "markdown",
   "metadata": {},
   "source": [
    "For this exercise you will need to import arcpy and os."
   ]
  },
  {
   "cell_type": "code",
   "execution_count": null,
   "metadata": {
    "collapsed": true
   },
   "outputs": [],
   "source": [
    "import arcpy\n",
    "import os"
   ]
  },
  {
   "cell_type": "markdown",
   "metadata": {},
   "source": [
    "# Define Variables"
   ]
  },
  {
   "cell_type": "markdown",
   "metadata": {},
   "source": [
    "Define your input variables here."
   ]
  },
  {
   "cell_type": "code",
   "execution_count": null,
   "metadata": {
    "collapsed": true
   },
   "outputs": [],
   "source": [
    "image_dir = ??? #You define thisr\"C:\\Student\\DEM\"\n",
    "output_gdb = ??? # You define this r\"C:\\Student\\mosaic.gdb\"\n",
    "mosaic_name = \"world_elevation\"\n",
    "\n",
    "arcpy.env.workspace = ??? \n",
    "image_list = arcpy.ListRasters()\n",
    "print(image_list)"
   ]
  },
  {
   "cell_type": "markdown",
   "metadata": {},
   "source": [
    "# Create File Geodatabase"
   ]
  },
  {
   "cell_type": "markdown",
   "metadata": {},
   "source": [
    "Use os to get the output_gdb_dir and output_gdb_name from output_gdb."
   ]
  },
  {
   "cell_type": "code",
   "execution_count": null,
   "metadata": {
    "collapsed": false
   },
   "outputs": [],
   "source": [
    "output_gdb_dir = ??? #Hint: Use os to get it from \"output_gdb\"\n",
    "output_gdb_name = ??? #Hint: Use os to get it from \"output_gdb\"\n",
    "if arcpy.Exists(output_gdb) != True:\n",
    "    arcpy.CreateFileGDB_management(output_gdb_dir, output_gdb_name)\n",
    "else:\n",
    "    print(\"File Geodatabase exists!\")"
   ]
  },
  {
   "cell_type": "markdown",
   "metadata": {},
   "source": [
    "# Create Mosaic Dataset"
   ]
  },
  {
   "cell_type": "markdown",
   "metadata": {},
   "source": [
    "Next, we need to create the mosaic dataset."
   ]
  },
  {
   "cell_type": "code",
   "execution_count": null,
   "metadata": {
    "collapsed": false
   },
   "outputs": [],
   "source": [
    "#Tool help at http://pro.arcgis.com/en/pro-app/tool-reference/data-management/create-mosaic-dataset.htm\n",
    "projection = arcpy.SpatialReference(4326)\n",
    "arcpy.CreateMosaicDataset_management(output_gdb, mosaic_name, projection)\n",
    "print(\"Mosaic Dataset Created.\")"
   ]
  },
  {
   "cell_type": "markdown",
   "metadata": {},
   "source": [
    "# Add Rasters to Mosaic Dataset"
   ]
  },
  {
   "cell_type": "markdown",
   "metadata": {},
   "source": [
    "Then, we add rasters to the mosaic. Use os.path.join to create the \"path_to_mosaic\" variable."
   ]
  },
  {
   "cell_type": "code",
   "execution_count": null,
   "metadata": {
    "collapsed": false
   },
   "outputs": [],
   "source": [
    "#http://pro.arcgis.com/en/pro-app/tool-reference/data-management/add-rasters-to-mosaic-dataset.htm\n",
    "rasttype = \"Raster Dataset\"\n",
    "updatecs = \"UPDATE_CELL_SIZES\"\n",
    "updatebnd = \"UPDATE_BOUNDARY\"\n",
    "updateovr =  \"UPDATE_OVERVIEWS\"\n",
    "path_to_mosaic  = ??? #Hint: Use os.path.join to joing the mosaic GDB to the mosaic name\n",
    "arcpy.AddRastersToMosaicDataset_management(path_to_mosaic, rasttype, \n",
    "                                           image_list, updatecs, \n",
    "                                           updatebnd, updateovr)\n",
    "print(\"Rasters Added to Mosaic.\")"
   ]
  },
  {
   "cell_type": "markdown",
   "metadata": {},
   "source": [
    "# Calculate Statistics on Mosaic Dataset"
   ]
  },
  {
   "cell_type": "markdown",
   "metadata": {},
   "source": [
    "As a final step, calculate statistics on the mosaic dataset. Here, I've set the skip values to 5, but feel free to change those."
   ]
  },
  {
   "cell_type": "code",
   "execution_count": null,
   "metadata": {
    "collapsed": false
   },
   "outputs": [],
   "source": [
    "skip_factor_x = \"5\"\n",
    "skip_factor_y = \"5\"\n",
    "arcpy.CalculateStatistics_management(os.path.join(output_gdb, mosaic_name), \n",
    "                                     skip_factor_x, skip_factor_y)\n",
    "print(\"Statistics Calculated.\")"
   ]
  },
  {
   "cell_type": "markdown",
   "metadata": {
    "collapsed": true
   },
   "source": [
    "# Go to ArcMap, create a new MXD, and add the mosaic to the table of contents. Does everything look right?"
   ]
  },
  {
   "cell_type": "markdown",
   "metadata": {},
   "source": [
    "# Please submit this script to the Week 10 Assignment folder."
   ]
  },
  {
   "cell_type": "code",
   "execution_count": null,
   "metadata": {
    "collapsed": true
   },
   "outputs": [],
   "source": []
  }
 ],
 "metadata": {
  "kernelspec": {
   "display_name": "Python 3",
   "language": "python",
   "name": "python3"
  },
  "language_info": {
   "codemirror_mode": {
    "name": "ipython",
    "version": 3
   },
   "file_extension": ".py",
   "mimetype": "text/x-python",
   "name": "python",
   "nbconvert_exporter": "python",
   "pygments_lexer": "ipython3",
   "version": "3.5.3"
  }
 },
 "nbformat": 4,
 "nbformat_minor": 2
}
