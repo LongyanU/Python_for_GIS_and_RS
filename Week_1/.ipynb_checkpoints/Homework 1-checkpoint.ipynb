{
 "cells": [
  {
   "cell_type": "markdown",
   "metadata": {},
   "source": [
    "# Week 1 Homework Assignement"
   ]
  },
  {
   "cell_type": "markdown",
   "metadata": {},
   "source": [
    "1. If you haven't completed the questions in Excercise 1 and 2, please do so and submit them at at or before the beginning of next class.\n",
    "2. Please read Chapters 1 and 2 of [ArcPy and ArcGIS - Geospatial Analysis with Python](https://www.amazon.com/ArcPy-ArcGIS-Geospatial-Analysis-Python/dp/1783988665) by Silas Toms. We will pick right back up with this material next week!"
   ]
  }
 ],
 "metadata": {
  "anaconda-cloud": {},
  "kernelspec": {
   "display_name": "Python [default]",
   "language": "python",
   "name": "python3"
  },
  "language_info": {
   "codemirror_mode": {
    "name": "ipython",
    "version": 3
   },
   "file_extension": ".py",
   "mimetype": "text/x-python",
   "name": "python",
   "nbconvert_exporter": "python",
   "pygments_lexer": "ipython3",
   "version": "3.4.5"
  }
 },
 "nbformat": 4,
 "nbformat_minor": 1
}
