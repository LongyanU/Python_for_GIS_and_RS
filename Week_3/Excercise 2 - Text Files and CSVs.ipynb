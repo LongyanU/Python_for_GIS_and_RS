{
 "cells": [
  {
   "cell_type": "markdown",
   "metadata": {},
   "source": [
    "# Text Files"
   ]
  },
  {
   "cell_type": "markdown",
   "metadata": {},
   "source": [
    "# CSVs"
   ]
  },
  {
   "cell_type": "markdown",
   "metadata": {
    "collapsed": true
   },
   "source": [
    "As long as you work with data, you will encounter comma separated value (CSV) files.  CSV (Comma Separated Values) format is the most common import and export format for spreadsheets and databases. A csv file contains a number of rows, each containing a number of columns,\n",
    "usually separated by commas.\n",
    "\n",
    "Here, we'll explore how to use Python to read and parse csv files and then join that data to a spatial dataset. In our example, we will use data from [data.cms.gov](https://data.cms.gov/) on state by state enrollment into the Affordable Care Acts new [Pre-Existing Condition Insurance Plan (PCIP) program](https://data.cms.gov/Health/Monthly-Pre-Existing-Condition-Insurance-Plan-Enro/dpuq-z7nj) to make health insurance available to Americans denied coverage by private insurance companies because of a pre-existing condition. "
   ]
  },
  {
   "cell_type": "markdown",
   "metadata": {},
   "source": [
    "# csv module"
   ]
  },
  {
   "cell_type": "markdown",
   "metadata": {},
   "source": [
    "The csv module's purpose is to make it easier to deal with csv formatted file, especially when working with data exported from spreadsheets and databases into text files. First, let's import the csv module."
   ]
  },
  {
   "cell_type": "code",
   "execution_count": null,
   "metadata": {
    "collapsed": true
   },
   "outputs": [],
   "source": [
    "import csv"
   ]
  },
  {
   "cell_type": "markdown",
   "metadata": {},
   "source": [
    "reading a csv file looks a lot like reading a text file. Let's read the monthly pre-existing conditionenrollment csv file and print out all of the rows."
   ]
  },
  {
   "cell_type": "code",
   "execution_count": null,
   "metadata": {
    "collapsed": false
   },
   "outputs": [],
   "source": [
    "csvfile = r\"C:\\Users\\greg6750\\Documents\\IPython Notebooks\\Python_for_GIS_and_RS\\Week_3\\data\\Monthly_Pre-Existing_Condition_Insurance_Plan_Enrollment__State_by_State.csv\""
   ]
  },
  {
   "cell_type": "code",
   "execution_count": null,
   "metadata": {
    "collapsed": false
   },
   "outputs": [],
   "source": [
    "with open(csvfile, 'rt') as f:\n",
    "    reader = csv.reader(f)\n",
    "    for row in reader:\n",
    "        print(row)"
   ]
  },
  {
   "cell_type": "markdown",
   "metadata": {},
   "source": [
    "The 'rt' tells the csv reader that we are looking at a text file. \n",
    "\n",
    "Notice that the header of the csv file also gets printed out. Let's use a slightly different technique to read the file in. Also, Let's separate the header from the rest of the data and set it up so that per state, we print our the monthly enrollment."
   ]
  },
  {
   "cell_type": "code",
   "execution_count": null,
   "metadata": {
    "collapsed": false
   },
   "outputs": [],
   "source": [
    "ifile  = open(csvfile, \"rt\")\n",
    "reader = csv.reader(ifile)\n",
    "\n",
    "rownum = 0\n",
    "for row in reader:\n",
    "    # Save header row.\n",
    "    if rownum == 0:\n",
    "        header = row\n",
    "    else:\n",
    "        colnum = 0\n",
    "        for col in row:\n",
    "            print(header[colnum] + \": \" + str(col))\n",
    "            colnum += 1\n",
    "            \n",
    "    rownum += 1"
   ]
  },
  {
   "cell_type": "markdown",
   "metadata": {},
   "source": [
    "Here, we went through and for every state, we listed out the number of enrollees per month."
   ]
  },
  {
   "cell_type": "markdown",
   "metadata": {},
   "source": [
    "## Quetion: What is the most recent month for which there is data?"
   ]
  },
  {
   "cell_type": "markdown",
   "metadata": {},
   "source": [
    "# CSV to ArcGIS Table"
   ]
  },
  {
   "cell_type": "markdown",
   "metadata": {},
   "source": [
    "Arcpy has a very nice function called [Table to Table](http://pro.arcgis.com/en/pro-app/tool-reference/conversion/table-to-table.htm) that will convert a CSV directly to a table in a geodatabase. This is very helpful when we want to make a non-spatial spreadsheet a spatial dataset. Let's use arcpy and Table to Table to import our ACA data. Let's also import os so that we can create the output geodatabase that will contain the table."
   ]
  },
  {
   "cell_type": "code",
   "execution_count": null,
   "metadata": {
    "collapsed": true
   },
   "outputs": [],
   "source": [
    "import arcpy\n",
    "import os"
   ]
  },
  {
   "cell_type": "code",
   "execution_count": null,
   "metadata": {
    "collapsed": false
   },
   "outputs": [],
   "source": [
    "output_gdb = r'C:\\Users\\greg6750\\Documents\\IPython Notebooks\\Python_for_GIS_and_RS\\Week_3\\data\\aca.gdb'\n",
    "\n",
    "#Use os to split the output_gdb into a name and path\n",
    "gdb_name = os.path.basename(output_gdb)\n",
    "gdb_path = os.path.dirname(output_gdb)\n",
    "\n",
    "#print the name and path to verifiy that they are correct\n",
    "print(gdb_name)\n",
    "print(gdb_path)"
   ]
  },
  {
   "cell_type": "markdown",
   "metadata": {
    "collapsed": true
   },
   "source": [
    "Let's use arcpy to create a file geodatabase from the gdb_path and gdb_name."
   ]
  },
  {
   "cell_type": "code",
   "execution_count": null,
   "metadata": {
    "collapsed": true
   },
   "outputs": [],
   "source": [
    "arcpy.CreateFileGDB_management(gdb_path, gdb_name)"
   ]
  },
  {
   "cell_type": "markdown",
   "metadata": {
    "collapsed": true
   },
   "source": [
    "Now that we've created a geodatabase, we can use [Table to Table](http://pro.arcgis.com/en/pro-app/tool-reference/conversion/table-to-table.htm) to import the CSV file into the geodatabase as a table. Let's go ahead and do that."
   ]
  },
  {
   "cell_type": "code",
   "execution_count": null,
   "metadata": {
    "collapsed": false
   },
   "outputs": [],
   "source": [
    "table_name = 'enrollment_by_month'\n",
    "arcpy.TableToTable_conversion(csvfile, output_gdb, table_name)"
   ]
  },
  {
   "cell_type": "markdown",
   "metadata": {},
   "source": [
    "## Question: Did it work? Open ArcMap and check!"
   ]
  },
  {
   "cell_type": "markdown",
   "metadata": {},
   "source": [
    "You can use arcpy to verify that it worked. Let's do a quick check."
   ]
  },
  {
   "cell_type": "code",
   "execution_count": null,
   "metadata": {
    "collapsed": false
   },
   "outputs": [],
   "source": [
    "arcpy.env.workspace = output_gdb\n",
    "arcpy.GetCount_management(table_name)"
   ]
  },
  {
   "cell_type": "markdown",
   "metadata": {},
   "source": [
    "## Question: How many rows are in the table? Is this what you expected?"
   ]
  },
  {
   "cell_type": "markdown",
   "metadata": {
    "collapsed": true
   },
   "source": [
    "# Joining the Table to a Feature Class"
   ]
  },
  {
   "cell_type": "markdown",
   "metadata": {},
   "source": [
    "Now that we have imported the CSV into a table, we can very easily join it to a feature class. Next, we'll do just that. We will join the table we created with a USA states feature class in order to illustrate how we can use python to automate the whole workflow of converting a CSV to a feature class.\n",
    "\n",
    "In the Week_3\\data\\states_21basic folder there is a shapefile named states.shp. Let's look at that shapefile in ArcMap.\n",
    "1. Open ArcMap\n",
    "2. Add states.shp to the map.\n",
    "3. Open the attribute table. In the attribute table, you should see a field called STATE_NAME. Verify that this is true.\n",
    "4. Find you aca.gbd geodatabase. Add the enrollment_by_month table to the ArcMap Table of contents.\n",
    "5. Open the enrollment_by_month table. You should see a State field. Verify that this is true."
   ]
  },
  {
   "cell_type": "markdown",
   "metadata": {},
   "source": [
    "Now we will use the [Join Field](http://pro.arcgis.com/en/pro-app/tool-reference/data-management/join-field.htm) to join the table to the states.shp shapefile. If you haven't imported arcpy yet, import arcpy. Then, let's join the data together."
   ]
  },
  {
   "cell_type": "code",
   "execution_count": null,
   "metadata": {
    "collapsed": false
   },
   "outputs": [],
   "source": [
    "import arcpy\n",
    "\n",
    "states = r'C:\\Users\\greg6750\\Documents\\IPython Notebooks\\Python_for_GIS_and_RS\\Week_3\\data\\states_21basic\\states.shp'\n",
    "state_join_field = 'STATE_NAME'\n",
    "table = r'C:\\Users\\greg6750\\Documents\\IPython Notebooks\\Python_for_GIS_and_RS\\Week_3\\data\\aca.gdb\\enrollment_by_month'\n",
    "table_join_field =  'State'\n",
    "\n",
    "arcpy.JoinField_management(states, state_join_field, table, table_join_field)"
   ]
  },
  {
   "cell_type": "markdown",
   "metadata": {},
   "source": [
    "## Question: Did it Work? Open ArcMap and verify. You may notice the some of the field names changed. Do you know why?"
   ]
  },
  {
   "cell_type": "code",
   "execution_count": null,
   "metadata": {
    "collapsed": true
   },
   "outputs": [],
   "source": []
  }
 ],
 "metadata": {
  "anaconda-cloud": {},
  "kernelspec": {
   "display_name": "Python [default]",
   "language": "python",
   "name": "python3"
  },
  "language_info": {
   "codemirror_mode": {
    "name": "ipython",
    "version": 3
   },
   "file_extension": ".py",
   "mimetype": "text/x-python",
   "name": "python",
   "nbconvert_exporter": "python",
   "pygments_lexer": "ipython3",
   "version": "3.4.5"
  }
 },
 "nbformat": 4,
 "nbformat_minor": 1
}
