{
 "cells": [
  {
   "cell_type": "markdown",
   "metadata": {},
   "source": [
    "# Creating Your First Python Script"
   ]
  },
  {
   "cell_type": "markdown",
   "metadata": {},
   "source": [
    "For Excercise 1, we're going to dive right in and create our first Python script as is described in Chapter 3 of Silas Toms textbook.  This Excercise will show us how ModelBuilder and Python are connected, introduce some of us to SQL statements, and introduce us to common GIS GP tools. My hope with this excercise is that having read the chapter before class, you can dive right into it and work through the Chapter in 60-90 minutes. Please let me know if you are having any problems with the material."
   ]
  }
 ],
 "metadata": {
  "anaconda-cloud": {},
  "kernelspec": {
   "display_name": "Python [default]",
   "language": "python",
   "name": "python3"
  },
  "language_info": {
   "codemirror_mode": {
    "name": "ipython",
    "version": 3
   },
   "file_extension": ".py",
   "mimetype": "text/x-python",
   "name": "python",
   "nbconvert_exporter": "python",
   "pygments_lexer": "ipython3",
   "version": "3.4.5"
  }
 },
 "nbformat": 4,
 "nbformat_minor": 1
}
