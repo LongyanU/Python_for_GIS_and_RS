{
 "cells": [
  {
   "cell_type": "markdown",
   "metadata": {},
   "source": [
    "# Text Files"
   ]
  },
  {
   "cell_type": "markdown",
   "metadata": {},
   "source": [
    "In this first exercise, we'll learn how to read data from and write data to text file. This is an essential skill in programming as you will frequently be creating reports, tables, and other types of text outputs. Through this exercise I want you to pay attention to the details of how to work with text files because you will find similarities between working with text files, CSV files, tables in a geodatabase, and much more.\n",
    "\n",
    "These exercises are derived from Zandbergen Chapter 7.6 and the tutorial this totirla called [Reading and Writing Files in Python](http://www.pythonforbeginners.com/files/reading-and-writing-files-in-python).  "
   ]
  },
  {
   "cell_type": "markdown",
   "metadata": {},
   "source": [
    "## Import... Nothing"
   ]
  },
  {
   "cell_type": "markdown",
   "metadata": {},
   "source": [
    "What is nice about working with text files in Python is that you don't need to import a library to read or write files! The first step is to just _open_ the file. First, we'll open a file and write text to it. Then, we'll open a file and read text from it. "
   ]
  },
  {
   "cell_type": "markdown",
   "metadata": {},
   "source": [
    "## Writing Data"
   ]
  },
  {
   "cell_type": "markdown",
   "metadata": {},
   "source": [
    "Let's create a file that we can write to. The first step is to open it. Let's open a new file in our Week_3\\data folder."
   ]
  },
  {
   "cell_type": "code",
   "execution_count": null,
   "metadata": {
    "collapsed": false
   },
   "outputs": [],
   "source": [
    "f = open(r\"C:\\Users\\greg6750\\Documents\\IPython Notebooks\\Python_for_GIS_and_RS\\Week_3\\data\\sample.txt\", \"w\")"
   ]
  },
  {
   "cell_type": "markdown",
   "metadata": {},
   "source": [
    "We specify \"w\" as the second argument because that denotes write mode. There are 4 modes that you could specify:\n",
    "- r: read mode\n",
    "- w: write mode\n",
    "- b: binary mode\n",
    "- a: append mode\n",
    "\n",
    "If you add \"+\" to another mode, that means that you can either read or write in that mode.\n",
    "\n",
    "You should see a text file named sample.txt created in your Week_3\\data folder. Writing data to the file is as simple as calling _f.write_. Let's add some text to the file."
   ]
  },
  {
   "cell_type": "code",
   "execution_count": null,
   "metadata": {
    "collapsed": false
   },
   "outputs": [],
   "source": [
    "f.write(\"St. Louis University Center for Sustainability\")"
   ]
  },
  {
   "cell_type": "markdown",
   "metadata": {},
   "source": [
    "If we are finished writing to the file. We call _f.close_. Let's close the file."
   ]
  },
  {
   "cell_type": "code",
   "execution_count": null,
   "metadata": {
    "collapsed": true
   },
   "outputs": [],
   "source": [
    "f.close()"
   ]
  },
  {
   "cell_type": "markdown",
   "metadata": {},
   "source": [
    "## Reading Data"
   ]
  },
  {
   "cell_type": "markdown",
   "metadata": {},
   "source": [
    "Reading a text file is just as easy. Let's read the file we just wrote:"
   ]
  },
  {
   "cell_type": "code",
   "execution_count": null,
   "metadata": {
    "collapsed": false
   },
   "outputs": [],
   "source": [
    "f = open(r\"C:\\Users\\greg6750\\Documents\\IPython Notebooks\\Python_for_GIS_and_RS\\Week_3\\data\\sample.txt\", \"r\")"
   ]
  },
  {
   "cell_type": "code",
   "execution_count": null,
   "metadata": {
    "collapsed": false
   },
   "outputs": [],
   "source": [
    "f.read()"
   ]
  },
  {
   "cell_type": "markdown",
   "metadata": {},
   "source": [
    "## Question 1: What happens if you call f.read()?"
   ]
  },
  {
   "cell_type": "markdown",
   "metadata": {},
   "source": [
    "If you supply a numerical argument to the read function, that argument will indicate how many characters to read from the file. FOr example, let's read the file again and only look at the first 9 characters."
   ]
  },
  {
   "cell_type": "code",
   "execution_count": null,
   "metadata": {
    "collapsed": false
   },
   "outputs": [],
   "source": [
    "f = open(r\"C:\\Users\\greg6750\\Documents\\IPython Notebooks\\Python_for_GIS_and_RS\\Week_3\\data\\sample.txt\")\n",
    "f.read(9)"
   ]
  },
  {
   "cell_type": "markdown",
   "metadata": {},
   "source": [
    "## Question 2: What are the first 9 characters of the text file?"
   ]
  },
  {
   "cell_type": "markdown",
   "metadata": {},
   "source": [
    "What if a file has multiple lies of text in it. Easy! YOu can use the _readlines_ function to read all of the lines.  Let's read the students.txt file in Week_3\\data."
   ]
  },
  {
   "cell_type": "code",
   "execution_count": null,
   "metadata": {
    "collapsed": true
   },
   "outputs": [],
   "source": [
    "f = open(r\"C:\\Users\\greg6750\\Documents\\IPython Notebooks\\Python_for_GIS_and_RS\\Week_3\\data\\students.txt\")\n",
    "lines = f.readlines()"
   ]
  },
  {
   "cell_type": "markdown",
   "metadata": {},
   "source": [
    "## Question 3: What do you get if you print our the lines variable?"
   ]
  },
  {
   "cell_type": "markdown",
   "metadata": {},
   "source": [
    "At the end of every student name except the last, you should see a \"\\n\". This is called a line separator; it denotes the end of a line in the file. You can use indexes to specify which line you want to look at. For example:"
   ]
  },
  {
   "cell_type": "code",
   "execution_count": null,
   "metadata": {
    "collapsed": false
   },
   "outputs": [],
   "source": [
    "lines[0] #Should return Matt"
   ]
  },
  {
   "cell_type": "code",
   "execution_count": null,
   "metadata": {
    "collapsed": false
   },
   "outputs": [],
   "source": [
    "lines[1] #Should return Greg"
   ]
  },
  {
   "cell_type": "markdown",
   "metadata": {},
   "source": [
    "## Reading Real Data"
   ]
  },
  {
   "cell_type": "markdown",
   "metadata": {},
   "source": [
    "In this exercise, we're going to read in the file coordinates.txt, remove the ID, Lat, and Lon fields, and write only the numerical values back to the text file.\n",
    "\n",
    "First, let's open the coordinates.txt file and also a file called cleaned_coordinates.txt that we'll use as the output file for the cleaned coordinates."
   ]
  },
  {
   "cell_type": "code",
   "execution_count": null,
   "metadata": {
    "collapsed": true
   },
   "outputs": [],
   "source": [
    "in_file = open(r\"C:\\Users\\greg6750\\Documents\\IPython Notebooks\\Python_for_GIS_and_RS\\Week_3\\data\\coordinates.txt\")\n",
    "out_file = open(r\"C:\\Users\\greg6750\\Documents\\IPython Notebooks\\Python_for_GIS_and_RS\\Week_3\\data\\cleaned_coordinates.txt\", \"w\")"
   ]
  },
  {
   "cell_type": "markdown",
   "metadata": {},
   "source": [
    "Let's see how we can remove the ID, Lat, and Lon text from the coordinates.txt file. We can use the str.replace() method to remove this text."
   ]
  },
  {
   "cell_type": "code",
   "execution_count": null,
   "metadata": {
    "collapsed": false
   },
   "outputs": [],
   "source": [
    "for line in in_file:\n",
    "    str = line.replace(\"ID:\", \"\")\n",
    "    str = str.replace(\"Lat:\",\"\")\n",
    "    str = str.replace(\"Lon:\", \"\")\n",
    "    print(\"Old Line: \" + line)\n",
    "    print(\"New Line: \" + str)\n",
    "    out_file.write(str)\n",
    "    \n",
    "#Let's close the files\n",
    "in_file.close()\n",
    "out_file.close()"
   ]
  },
  {
   "cell_type": "markdown",
   "metadata": {},
   "source": [
    "## Question 4: Please submit cleaned_coordinates.txt with this weeks homework."
   ]
  },
  {
   "cell_type": "markdown",
   "metadata": {},
   "source": [
    "In this exercise, we learned how to read and write text data with Python. In the next section, we'll learn how to read and write CSV files. Notice the similarities."
   ]
  },
  {
   "cell_type": "markdown",
   "metadata": {},
   "source": [
    "# CSVs"
   ]
  },
  {
   "cell_type": "markdown",
   "metadata": {
    "collapsed": true
   },
   "source": [
    "As long as you work with data, you will encounter comma separated value (CSV) files.  CSV (Comma Separated Values) format is the most common import and export format for spreadsheets and databases. A csv file contains a number of rows, each containing a number of columns,\n",
    "usually separated by commas.\n",
    "\n",
    "Here, we'll explore how to use Python to read and parse csv files and then join that data to a spatial dataset. In our example, we will use data from [data.cms.gov](https://data.cms.gov/) on state by state enrollment into the Affordable Care Acts new [Pre-Existing Condition Insurance Plan (PCIP) program](https://data.cms.gov/Health/Monthly-Pre-Existing-Condition-Insurance-Plan-Enro/dpuq-z7nj) to make health insurance available to Americans denied coverage by private insurance companies because of a pre-existing condition. "
   ]
  },
  {
   "cell_type": "markdown",
   "metadata": {},
   "source": [
    "# csv module"
   ]
  },
  {
   "cell_type": "markdown",
   "metadata": {},
   "source": [
    "The csv module's purpose is to make it easier to deal with csv formatted file, especially when working with data exported from spreadsheets and databases into text files. First, let's import the csv module."
   ]
  },
  {
   "cell_type": "code",
   "execution_count": null,
   "metadata": {
    "collapsed": true
   },
   "outputs": [],
   "source": [
    "import csv"
   ]
  },
  {
   "cell_type": "markdown",
   "metadata": {},
   "source": [
    "reading a csv file looks a lot like reading a text file. Let's read the monthly pre-existing conditionenrollment csv file and print out all of the rows."
   ]
  },
  {
   "cell_type": "code",
   "execution_count": null,
   "metadata": {
    "collapsed": false
   },
   "outputs": [],
   "source": [
    "csvfile = r\"C:\\Users\\greg6750\\Documents\\IPython Notebooks\\Python_for_GIS_and_RS\\Week_3\\data\\Monthly_Pre-Existing_Condition_Insurance_Plan_Enrollment__State_by_State.csv\""
   ]
  },
  {
   "cell_type": "code",
   "execution_count": null,
   "metadata": {
    "collapsed": false
   },
   "outputs": [],
   "source": [
    "with open(csvfile, 'rt') as f:\n",
    "    reader = csv.reader(f)\n",
    "    for row in reader:\n",
    "        print(row)"
   ]
  },
  {
   "cell_type": "markdown",
   "metadata": {},
   "source": [
    "The 'rt' tells the csv reader that we are looking at a text file. \n",
    "\n",
    "Notice that the header of the csv file also gets printed out. Let's use a slightly different technique to read the file in. Also, Let's separate the header from the rest of the data and set it up so that per state, we print our the monthly enrollment."
   ]
  },
  {
   "cell_type": "code",
   "execution_count": null,
   "metadata": {
    "collapsed": false
   },
   "outputs": [],
   "source": [
    "ifile  = open(csvfile, \"rt\")\n",
    "reader = csv.reader(ifile)\n",
    "\n",
    "rownum = 0\n",
    "for row in reader:\n",
    "    # Save header row.\n",
    "    if rownum == 0:\n",
    "        header = row\n",
    "    else:\n",
    "        colnum = 0\n",
    "        for col in row:\n",
    "            print(header[colnum] + \": \" + str(col))\n",
    "            colnum += 1\n",
    "            \n",
    "    rownum += 1"
   ]
  },
  {
   "cell_type": "markdown",
   "metadata": {},
   "source": [
    "Here, we went through and for every state, we listed out the number of enrollees per month."
   ]
  },
  {
   "cell_type": "markdown",
   "metadata": {},
   "source": [
    "## Quetion 5: What is the most recent month for which there is data?"
   ]
  },
  {
   "cell_type": "markdown",
   "metadata": {},
   "source": [
    "# CSV to ArcGIS Table"
   ]
  },
  {
   "cell_type": "markdown",
   "metadata": {},
   "source": [
    "Arcpy has a very nice function called [Table to Table](http://pro.arcgis.com/en/pro-app/tool-reference/conversion/table-to-table.htm) that will convert a CSV directly to a table in a geodatabase. This is very helpful when we want to make a non-spatial spreadsheet a spatial dataset. Let's use arcpy and Table to Table to import our ACA data. Let's also import os so that we can create the output geodatabase that will contain the table."
   ]
  },
  {
   "cell_type": "code",
   "execution_count": null,
   "metadata": {
    "collapsed": true
   },
   "outputs": [],
   "source": [
    "import arcpy\n",
    "import os"
   ]
  },
  {
   "cell_type": "code",
   "execution_count": null,
   "metadata": {
    "collapsed": false
   },
   "outputs": [],
   "source": [
    "output_gdb = r'C:\\Users\\greg6750\\Documents\\IPython Notebooks\\Python_for_GIS_and_RS\\Week_3\\data\\aca.gdb'\n",
    "\n",
    "#Use os to split the output_gdb into a name and path\n",
    "gdb_name = os.path.basename(output_gdb)\n",
    "gdb_path = os.path.dirname(output_gdb)\n",
    "\n",
    "#print the name and path to verifiy that they are correct\n",
    "print(gdb_name)\n",
    "print(gdb_path)"
   ]
  },
  {
   "cell_type": "markdown",
   "metadata": {
    "collapsed": true
   },
   "source": [
    "Let's use arcpy to create a file geodatabase from the gdb_path and gdb_name."
   ]
  },
  {
   "cell_type": "code",
   "execution_count": null,
   "metadata": {
    "collapsed": true
   },
   "outputs": [],
   "source": [
    "arcpy.CreateFileGDB_management(gdb_path, gdb_name)"
   ]
  },
  {
   "cell_type": "markdown",
   "metadata": {
    "collapsed": true
   },
   "source": [
    "Now that we've created a geodatabase, we can use [Table to Table](http://pro.arcgis.com/en/pro-app/tool-reference/conversion/table-to-table.htm) to import the CSV file into the geodatabase as a table. Let's go ahead and do that."
   ]
  },
  {
   "cell_type": "code",
   "execution_count": null,
   "metadata": {
    "collapsed": false
   },
   "outputs": [],
   "source": [
    "table_name = 'enrollment_by_month'\n",
    "arcpy.TableToTable_conversion(csvfile, output_gdb, table_name)"
   ]
  },
  {
   "cell_type": "markdown",
   "metadata": {},
   "source": [
    "## Question 6: Did it work? Open ArcMap and check!"
   ]
  },
  {
   "cell_type": "markdown",
   "metadata": {},
   "source": [
    "You can use arcpy to verify that it worked. Let's do a quick check."
   ]
  },
  {
   "cell_type": "code",
   "execution_count": null,
   "metadata": {
    "collapsed": false
   },
   "outputs": [],
   "source": [
    "arcpy.env.workspace = output_gdb\n",
    "arcpy.GetCount_management(table_name)"
   ]
  },
  {
   "cell_type": "markdown",
   "metadata": {},
   "source": [
    "## Question 7: How many rows are in the table? Is this what you expected?"
   ]
  },
  {
   "cell_type": "markdown",
   "metadata": {
    "collapsed": true
   },
   "source": [
    "# Joining the Table to a Feature Class"
   ]
  },
  {
   "cell_type": "markdown",
   "metadata": {},
   "source": [
    "Now that we have imported the CSV into a table, we can very easily join it to a feature class. Next, we'll do just that. We will join the table we created with a USA states feature class in order to illustrate how we can use python to automate the whole workflow of converting a CSV to a feature class.\n",
    "\n",
    "In the Week_3\\data\\states_21basic folder there is a shapefile named states.shp. Let's look at that shapefile in ArcMap.\n",
    "1. Open ArcMap\n",
    "2. Add states.shp to the map.\n",
    "3. Open the attribute table. In the attribute table, you should see a field called STATE_NAME. Verify that this is true.\n",
    "4. Find you aca.gbd geodatabase. Add the enrollment_by_month table to the ArcMap Table of contents.\n",
    "5. Open the enrollment_by_month table. You should see a State field. Verify that this is true."
   ]
  },
  {
   "cell_type": "markdown",
   "metadata": {},
   "source": [
    "Now we will use the [Join Field](http://pro.arcgis.com/en/pro-app/tool-reference/data-management/join-field.htm) to join the table to the states.shp shapefile. If you haven't imported arcpy yet, import arcpy. Then, let's join the data together."
   ]
  },
  {
   "cell_type": "code",
   "execution_count": null,
   "metadata": {
    "collapsed": false
   },
   "outputs": [],
   "source": [
    "import arcpy\n",
    "\n",
    "states = r'C:\\Users\\greg6750\\Documents\\IPython Notebooks\\Python_for_GIS_and_RS\\Week_3\\data\\states_21basic\\states.shp'\n",
    "state_join_field = 'STATE_NAME'\n",
    "table = r'C:\\Users\\greg6750\\Documents\\IPython Notebooks\\Python_for_GIS_and_RS\\Week_3\\data\\aca.gdb\\enrollment_by_month'\n",
    "table_join_field =  'State'\n",
    "\n",
    "arcpy.JoinField_management(states, state_join_field, table, table_join_field)"
   ]
  },
  {
   "cell_type": "markdown",
   "metadata": {},
   "source": [
    "## Question 8: Did it Work? Open ArcMap and verify. You may notice the some of the field names changed. Do you know why?"
   ]
  }
 ],
 "metadata": {
  "anaconda-cloud": {},
  "kernelspec": {
   "display_name": "Python [default]",
   "language": "python",
   "name": "python3"
  },
  "language_info": {
   "codemirror_mode": {
    "name": "ipython",
    "version": 3
   },
   "file_extension": ".py",
   "mimetype": "text/x-python",
   "name": "python",
   "nbconvert_exporter": "python",
   "pygments_lexer": "ipython3",
   "version": "3.4.5"
  }
 },
 "nbformat": 4,
 "nbformat_minor": 1
}
