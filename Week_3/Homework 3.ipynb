{
 "cells": [
  {
   "cell_type": "markdown",
   "metadata": {},
   "source": [
    "# Homework - Week 3"
   ]
  },
  {
   "cell_type": "code",
   "execution_count": 6,
   "metadata": {
    "collapsed": false
   },
   "outputs": [
    {
     "data": {
      "text/html": [
       "\n",
       "        <iframe\n",
       "            width=\"100%\"\n",
       "            height=\"500\"\n",
       "            src=\"http://data.unhcr.org/mediterranean/regional.php\"\n",
       "            frameborder=\"0\"\n",
       "            allowfullscreen\n",
       "        ></iframe>\n",
       "        "
      ],
      "text/plain": [
       "<IPython.lib.display.IFrame at 0x592fba8>"
      ]
     },
     "execution_count": 6,
     "metadata": {},
     "output_type": "execute_result"
    }
   ],
   "source": [
    "from IPython.display import IFrame\n",
    "IFrame('http://data.unhcr.org/mediterranean/regional.php', '100%', 500)"
   ]
  },
  {
   "cell_type": "markdown",
   "metadata": {},
   "source": [
    "The United Nations Refugee Agency (UNHCR) maintains a [website](http://data.unhcr.org/mediterranean/regional.php) and data [API](http://data.unhcr.org/wiki/index.php/API_Documentation.html) where you can access statistics on where immigrants are going to and coming from in the Mediterranean. In this assignment, you will write a Python script that takes a CSV file that contains statistics on the number and location of origin of immigrants to Greece, create a table in a geodatabase, and join that table to country polygons. This assignment is similar to some of the coding we did in Exercise 2 today.\n",
    "\n",
    "The CSV file with the immigrant data is located in ..Week_3\\data\\immigrants_to_greece.csv. The geodatabase with country polygons is located in ..Week_3\\data\\homework_week_3.gdb.\n",
    "\n",
    "Please submit your homework via Blackboard. If you have any questions or run into any issues, please contact me."
   ]
  },
  {
   "cell_type": "code",
   "execution_count": null,
   "metadata": {
    "collapsed": true
   },
   "outputs": [],
   "source": []
  }
 ],
 "metadata": {
  "anaconda-cloud": {},
  "kernelspec": {
   "display_name": "Python 3",
   "language": "python",
   "name": "python3"
  },
  "language_info": {
   "codemirror_mode": {
    "name": "ipython",
    "version": 3
   },
   "file_extension": ".py",
   "mimetype": "text/x-python",
   "name": "python",
   "nbconvert_exporter": "python",
   "pygments_lexer": "ipython3",
   "version": "3.5.2"
  }
 },
 "nbformat": 4,
 "nbformat_minor": 1
}
