{
 "cells": [
  {
   "cell_type": "markdown",
   "metadata": {},
   "source": [
    "1. In our _Intro_ _to_ _Arcpy_, we saw how we can iterate over a list of feature classes in a geodatabase and list out the features class and the number of features per feature. For homework, I'd like you to write a short Python script that does the following:\n",
    "    - Lists the number of feature classes in the osm.gdb geodatabase in Week_2\\data.\n",
    "    - Prints out for each feature class in osm.gdb the number of features and the spatial reference.\n",
    "    - Clips each feature class to __county__.\n",
    "    - Hint: If you are looking for help, see the documentation for [ListFeatureClasses](http://desktop.arcgis.com/en/arcmap/10.3/analyze/arcpy-functions/listfeatureclasses.htm).\n",
    "    \n",
    "2. Read Chapter 3 of Toms and be ready to do the Chapter 3 tutorial in class next week."
   ]
  },
  {
   "cell_type": "code",
   "execution_count": null,
   "metadata": {
    "collapsed": true
   },
   "outputs": [],
   "source": []
  }
 ],
 "metadata": {
  "anaconda-cloud": {},
  "kernelspec": {
   "display_name": "Python [default]",
   "language": "python",
   "name": "python3"
  },
  "language_info": {
   "codemirror_mode": {
    "name": "ipython",
    "version": 3
   },
   "file_extension": ".py",
   "mimetype": "text/x-python",
   "name": "python",
   "nbconvert_exporter": "python",
   "pygments_lexer": "ipython3",
   "version": "3.4.5"
  }
 },
 "nbformat": 4,
 "nbformat_minor": 1
}
