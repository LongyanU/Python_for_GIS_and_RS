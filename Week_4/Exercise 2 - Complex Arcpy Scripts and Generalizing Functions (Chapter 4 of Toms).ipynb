{
 "cells": [
  {
   "cell_type": "markdown",
   "metadata": {},
   "source": [
    "The second exercise this week is directly from Toms. Please go through Toms Chapter 4 and complete the excercise. This will give you exposure to more complex Python and ArcPy scripts and how to generalize code into functions. As always, if you have any questions, please ask."
   ]
  }
 ],
 "metadata": {
  "anaconda-cloud": {},
  "kernelspec": {
   "display_name": "Python [default]",
   "language": "python",
   "name": "python3"
  },
  "language_info": {
   "codemirror_mode": {
    "name": "ipython",
    "version": 3
   },
   "file_extension": ".py",
   "mimetype": "text/x-python",
   "name": "python",
   "nbconvert_exporter": "python",
   "pygments_lexer": "ipython3",
   "version": "3.4.5"
  }
 },
 "nbformat": 4,
 "nbformat_minor": 1
}
