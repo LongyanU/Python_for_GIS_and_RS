{
 "cells": [
  {
   "cell_type": "markdown",
   "metadata": {
    "nbpresent": {
     "id": "26555edf-aae8-40c3-a901-715846f7ab3f"
    },
    "slideshow": {
     "slide_type": "slide"
    }
   },
   "source": [
    "# Exploring Spatial Data"
   ]
  },
  {
   "cell_type": "markdown",
   "metadata": {},
   "source": [
    "The following exercises will introduce you to the various methods of exploring spatial data. These methods include checking for the existence of data, listing datasets, listing characteristics of datasets, and describing data. Let's start with checking for the existence of data."
   ]
  },
  {
   "cell_type": "markdown",
   "metadata": {
    "slideshow": {
     "slide_type": "slide"
    }
   },
   "source": [
    "## Checking Whether Data Exists"
   ]
  },
  {
   "cell_type": "markdown",
   "metadata": {},
   "source": [
    "There are going to be a lot of instances where you will want to check whether data exists. In particular, if you are creating a new dataset, you will want to check whether it exists first because if you try to create a dataset that already exits, Python will likely throw an error.\n",
    "\n",
    "The [Exists](https://pro.arcgis.com/en/pro-app/arcpy/functions/exists.htm) function can be used to check whether a file, a geodatabase, table, layer, workspace, shapefile, file, or a feature class exits.  The function takes the path to the data and returns a boolean value (True of False) indicating whether the data exits.  Let's try it!"
   ]
  },
  {
   "cell_type": "code",
   "execution_count": 3,
   "metadata": {
    "collapsed": true
   },
   "outputs": [],
   "source": [
    "import arcpy"
   ]
  },
  {
   "cell_type": "code",
   "execution_count": 7,
   "metadata": {
    "collapsed": false
   },
   "outputs": [
    {
     "name": "stdout",
     "output_type": "stream",
     "text": [
      "True\n"
     ]
    }
   ],
   "source": [
    "raster_exitsts = arcpy.Exists(r'C:\\Users\\greg6750\\Documents\\IPython Notebooks\\Python_for_GIS_and_RS\\Week_4\\data\\dems\\af_dem_30s')\n",
    "print(raster_exitsts)"
   ]
  },
  {
   "cell_type": "code",
   "execution_count": 10,
   "metadata": {
    "collapsed": false
   },
   "outputs": [
    {
     "name": "stdout",
     "output_type": "stream",
     "text": [
      "True\n"
     ]
    }
   ],
   "source": [
    "gdb_exists = arcpy.Exists(r'C:\\Users\\greg6750\\Documents\\IPython Notebooks\\Python_for_GIS_and_RS\\Week_4\\data\\Features.gdb')\n",
    "print(gdb_exists)"
   ]
  },
  {
   "cell_type": "code",
   "execution_count": 12,
   "metadata": {
    "collapsed": false
   },
   "outputs": [
    {
     "name": "stdout",
     "output_type": "stream",
     "text": [
      "False\n"
     ]
    }
   ],
   "source": [
    "roads_exists = arcpy.Exists(r'C:\\Users\\greg6750\\Documents\\IPython Notebooks\\Python_for_GIS_and_RS\\Week_4\\data\\Features.gdb\\roads')\n",
    "print(roads_exists)"
   ]
  },
  {
   "cell_type": "code",
   "execution_count": 16,
   "metadata": {
    "collapsed": false
   },
   "outputs": [
    {
     "name": "stdout",
     "output_type": "stream",
     "text": [
      "True\n"
     ]
    }
   ],
   "source": [
    "roads_exists = arcpy.Exists(r'C:\\Users\\greg6750\\Documents\\IPython Notebooks\\Python_for_GIS_and_RS\\Week_4\\data\\osm\\OSM.gdb\\highway_line')\n",
    "print(roads_exists)"
   ]
  },
  {
   "cell_type": "markdown",
   "metadata": {
    "slideshow": {
     "slide_type": "slide"
    }
   },
   "source": [
    "## Describing Data"
   ]
  },
  {
   "cell_type": "code",
   "execution_count": 22,
   "metadata": {
    "collapsed": false
   },
   "outputs": [
    {
     "name": "stdout",
     "output_type": "stream",
     "text": [
      "<geoprocessing describe data object object at 0x00000000099C7830>\n"
     ]
    }
   ],
   "source": [
    "import arcpy\n",
    "road_fc = r'C:\\Users\\greg6750\\Documents\\IPython Notebooks\\Python_for_GIS_and_RS\\Week_4\\data\\osm\\OSM.gdb\\highway_line'\n",
    "desc_features = arcpy.Describe(road_fc)\n",
    "print(desc_features)"
   ]
  },
  {
   "cell_type": "code",
   "execution_count": 32,
   "metadata": {
    "collapsed": false
   },
   "outputs": [
    {
     "name": "stdout",
     "output_type": "stream",
     "text": [
      "Feature Class Report\n",
      "Feature Class Name: highway_line\n",
      "Feature Class Catalog Path: C:\\Users\\greg6750\\Documents\\IPython Notebooks\\Python_for_GIS_and_RS\\Week_4\\data\\osm\\OSM.gdb\\highway_line\n",
      "Feature Class Shape: Polyline\n"
     ]
    }
   ],
   "source": [
    "print('Feature Class Report')\n",
    "print('Feature Class Name: ' + desc_features.name)\n",
    "print('Feature Class Catalog Path: ' + desc_features.catalogPath)\n",
    "print('Feature Class Shape: ' + desc_features.shapeType)"
   ]
  },
  {
   "cell_type": "markdown",
   "metadata": {},
   "source": [
    "### [Spatial Reference](http://pro.arcgis.com/en/pro-app/arcpy/classes/spatialreference.htm)"
   ]
  },
  {
   "cell_type": "code",
   "execution_count": 33,
   "metadata": {
    "collapsed": false
   },
   "outputs": [
    {
     "name": "stdout",
     "output_type": "stream",
     "text": [
      "GCS_WGS_1984\n"
     ]
    }
   ],
   "source": [
    "sr = desc_features.spatialReference\n",
    "print(sr.name)"
   ]
  },
  {
   "cell_type": "markdown",
   "metadata": {},
   "source": [
    "You could also  have called the spatial reference the following way:"
   ]
  },
  {
   "cell_type": "code",
   "execution_count": 34,
   "metadata": {
    "collapsed": false
   },
   "outputs": [
    {
     "name": "stdout",
     "output_type": "stream",
     "text": [
      "GCS_WGS_1984\n"
     ]
    }
   ],
   "source": [
    "print(desc_features.spatialReference.name)"
   ]
  },
  {
   "cell_type": "markdown",
   "metadata": {},
   "source": [
    "## Listing Data"
   ]
  },
  {
   "cell_type": "markdown",
   "metadata": {},
   "source": [
    "### [Listing Feature Data](http://pro.arcgis.com/en/pro-app/arcpy/functions/listfeatureclasses.htm)"
   ]
  },
  {
   "cell_type": "code",
   "execution_count": 43,
   "metadata": {
    "collapsed": false
   },
   "outputs": [
    {
     "name": "stdout",
     "output_type": "stream",
     "text": [
      "['C:\\\\Users\\\\greg6750\\\\Documents\\\\IPython Notebooks\\\\Python_for_GIS_and_RS\\\\Week_4\\\\data\\\\osm\\\\OSM.gdb']\n"
     ]
    }
   ],
   "source": [
    "osm_folder = r'C:\\Users\\greg6750\\Documents\\IPython Notebooks\\Python_for_GIS_and_RS\\Week_4\\data\\osm'\n",
    "arcpy.env.workspace = osm_folder\n",
    "osm_gdbs = arcpy.ListWorkspaces()\n",
    "print(osm_gdbs)"
   ]
  },
  {
   "cell_type": "code",
   "execution_count": 46,
   "metadata": {
    "collapsed": false
   },
   "outputs": [
    {
     "name": "stdout",
     "output_type": "stream",
     "text": [
      "['aeroway_line', 'aeroway_point', 'aeroway_polygon_polygon', 'amenity_point', 'amenity_polygon_polygon', 'barrier_line', 'barrier_point', 'barrier_polygon_polygon', 'boundary_line', 'boundary_polygon_polygon', 'building_point', 'building_polygon_polygon', 'craft_polygon_polygon', 'highway_line', 'highway_point', 'highway_polygon_polygon', 'historic_point', 'landuse_line', 'landuse_point', 'landuse_polygon_polygon', 'leisure_point', 'leisure_polygon_polygon', 'man_made_line', 'man_made_point', 'man_made_polygon_polygon', 'natural_point', 'natural_polygon_polygon', 'office_point', 'place_line', 'place_point', 'place_polygon_polygon', 'power_line', 'power_point', 'power_polygon_polygon', 'railway_line', 'railway_point', 'railway_polygon_polygon', 'route_line', 'shop_point', 'shop_polygon_polygon', 'sport_point', 'sport_polygon_polygon', 'tourism_point', 'tourism_polygon_polygon', 'waterway_line', 'waterway_point', 'waterway_polygon_polygon']\n"
     ]
    }
   ],
   "source": [
    "osm = r'C:\\Users\\greg6750\\Documents\\IPython Notebooks\\Python_for_GIS_and_RS\\Week_4\\data\\osm\\OSM.gdb'\n",
    "arcpy.env.workspace = osm\n",
    "osm_fcs = arcpy.ListFeatureClasses()\n",
    "print(osm_fcs)"
   ]
  },
  {
   "cell_type": "markdown",
   "metadata": {},
   "source": [
    "## Question : How many feature classes are in OSM.gdb? Use the [_len_ method](https://docs.python.org/2/library/functions.html#len) to find out."
   ]
  },
  {
   "cell_type": "markdown",
   "metadata": {},
   "source": [
    "### [Listing Rasters](http://pro.arcgis.com/en/pro-app/arcpy/functions/listrasters.htm)"
   ]
  },
  {
   "cell_type": "code",
   "execution_count": 40,
   "metadata": {
    "collapsed": false
   },
   "outputs": [
    {
     "name": "stdout",
     "output_type": "stream",
     "text": [
      "['C:\\\\Users\\\\greg6750\\\\Documents\\\\IPython Notebooks\\\\Python_for_GIS_and_RS\\\\Week_4\\\\data\\\\dems\\\\af_dem_30s', 'C:\\\\Users\\\\greg6750\\\\Documents\\\\IPython Notebooks\\\\Python_for_GIS_and_RS\\\\Week_4\\\\data\\\\dems\\\\as_dem_30s', 'C:\\\\Users\\\\greg6750\\\\Documents\\\\IPython Notebooks\\\\Python_for_GIS_and_RS\\\\Week_4\\\\data\\\\dems\\\\au_dem_30s', 'C:\\\\Users\\\\greg6750\\\\Documents\\\\IPython Notebooks\\\\Python_for_GIS_and_RS\\\\Week_4\\\\data\\\\dems\\\\ca_dem_30s', 'C:\\\\Users\\\\greg6750\\\\Documents\\\\IPython Notebooks\\\\Python_for_GIS_and_RS\\\\Week_4\\\\data\\\\dems\\\\eu_dem_30s', 'C:\\\\Users\\\\greg6750\\\\Documents\\\\IPython Notebooks\\\\Python_for_GIS_and_RS\\\\Week_4\\\\data\\\\dems\\\\na_dem_30s', 'C:\\\\Users\\\\greg6750\\\\Documents\\\\IPython Notebooks\\\\Python_for_GIS_and_RS\\\\Week_4\\\\data\\\\dems\\\\sa_dem_30s']\n"
     ]
    }
   ],
   "source": [
    "dem_folder = r'C:\\Users\\greg6750\\Documents\\IPython Notebooks\\Python_for_GIS_and_RS\\Week_4\\data\\dems'\n",
    "arcpy.env.workspace = dem_folder\n",
    "dems = arcpy.ListWorkspaces()\n",
    "print(dems)"
   ]
  },
  {
   "cell_type": "markdown",
   "metadata": {},
   "source": [
    "### [Listing Fields in a Feature Class](http://pro.arcgis.com/en/pro-app/arcpy/functions/listfields.htm)"
   ]
  },
  {
   "cell_type": "code",
   "execution_count": 50,
   "metadata": {
    "collapsed": false
   },
   "outputs": [
    {
     "name": "stdout",
     "output_type": "stream",
     "text": [
      "osm_id 20\n",
      "highway 2048\n",
      "name 2048\n",
      "name_en 2048\n",
      "ref 2048\n",
      "maxspeed 2048\n",
      "oneway 2048\n",
      "access 2048\n",
      "bicycle 2048\n",
      "foot 2048\n",
      "horse 2048\n",
      "motor_vehicle 2048\n",
      "motorcar 2048\n",
      "bridge 2048\n",
      "cutting 2048\n",
      "embankment 2048\n",
      "tunnel 2048\n",
      "service 2048\n",
      "toll 2048\n",
      "surface 2048\n",
      "width 2048\n",
      "construction 2048\n",
      "layer 2048\n",
      "tracktype 2048\n",
      "junction 2048\n",
      "disused 2048\n",
      "z_order 4\n",
      "OBJECTID 4\n",
      "SHAPE 0\n",
      "There are 29 fields in the feature class\n"
     ]
    }
   ],
   "source": [
    "highway_lines = r'C:\\Users\\greg6750\\Documents\\IPython Notebooks\\Python_for_GIS_and_RS\\Week_4\\data\\osm\\OSM.gdb\\highway_line'\n",
    "fields = arcpy.ListFields(highway_lines)\n",
    "for field in fields:\n",
    "    print(field.name + \" \" + str(field.length))\n",
    "    \n",
    "print(\"There are \" + str(len(fields)) + \" fields in the feature class\")"
   ]
  },
  {
   "cell_type": "markdown",
   "metadata": {},
   "source": [
    "## Question: How many fields are in the highway_line feature class?"
   ]
  },
  {
   "cell_type": "markdown",
   "metadata": {},
   "source": [
    "### Listing Other GIS Data"
   ]
  },
  {
   "cell_type": "markdown",
   "metadata": {},
   "source": [
    "In additonal to the lists that we have covered, arcpy supports listing [datasets](http://pro.arcgis.com/en/pro-app/arcpy/functions/listdatasets.htm), [files](http://pro.arcgis.com/en/pro-app/arcpy/functions/listfiles.htm), [tables](http://pro.arcgis.com/en/pro-app/arcpy/functions/listtables.htm), [workspace](http://pro.arcgis.com/en/pro-app/arcpy/functions/listworkspaces.htm), [indexes](http://pro.arcgis.com/en/pro-app/arcpy/functions/listindexes.htm), and [versions](http://pro.arcgis.com/en/pro-app/arcpy/functions/listversions.htm).  For a complete list, go to the following webpage:"
   ]
  },
  {
   "cell_type": "code",
   "execution_count": 1,
   "metadata": {
    "collapsed": false
   },
   "outputs": [
    {
     "data": {
      "text/html": [
       "\n",
       "        <iframe\n",
       "            width=\"100%\"\n",
       "            height=\"500\"\n",
       "            src=\"https://pro.arcgis.com/en/pro-app/arcpy/get-started/listing-data.htm\"\n",
       "            frameborder=\"0\"\n",
       "            allowfullscreen\n",
       "        ></iframe>\n",
       "        "
      ],
      "text/plain": [
       "<IPython.lib.display.IFrame at 0x5539550>"
      ]
     },
     "execution_count": 1,
     "metadata": {},
     "output_type": "execute_result"
    }
   ],
   "source": [
    "from IPython.display import IFrame\n",
    "IFrame(\"https://pro.arcgis.com/en/pro-app/arcpy/get-started/listing-data.htm\", '100%', 500)"
   ]
  },
  {
   "cell_type": "markdown",
   "metadata": {},
   "source": [
    "I recommend taking a look at some of these functions on your own time."
   ]
  },
  {
   "cell_type": "markdown",
   "metadata": {},
   "source": [
    "## Using Lists - Putting This All Together"
   ]
  },
  {
   "cell_type": "code",
   "execution_count": null,
   "metadata": {
    "collapsed": true
   },
   "outputs": [],
   "source": []
  }
 ],
 "metadata": {
  "anaconda-cloud": {},
  "kernelspec": {
   "display_name": "Python [default]",
   "language": "python",
   "name": "python3"
  },
  "language_info": {
   "codemirror_mode": {
    "name": "ipython",
    "version": 3
   },
   "file_extension": ".py",
   "mimetype": "text/x-python",
   "name": "python",
   "nbconvert_exporter": "python",
   "pygments_lexer": "ipython3",
   "version": "3.4.5"
  },
  "nbpresent": {
   "slides": {
    "7952cceb-ccbc-4eb2-bc37-f9c2696d8b71": {
     "id": "7952cceb-ccbc-4eb2-bc37-f9c2696d8b71",
     "prev": null,
     "regions": {
      "3403af56-5e29-43c9-aa10-5fdf0921287b": {
       "attrs": {
        "height": 0.8,
        "width": 0.45,
        "x": 0.5,
        "y": 0.1
       },
       "id": "3403af56-5e29-43c9-aa10-5fdf0921287b"
      }
     }
    }
   },
   "themes": {}
  }
 },
 "nbformat": 4,
 "nbformat_minor": 1
}
