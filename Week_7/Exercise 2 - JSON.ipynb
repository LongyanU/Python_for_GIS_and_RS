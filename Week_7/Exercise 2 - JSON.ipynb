{
 "cells": [
  {
   "cell_type": "markdown",
   "metadata": {},
   "source": [
    "# Exercise 2 - Working with JSON"
   ]
  },
  {
   "cell_type": "markdown",
   "metadata": {},
   "source": [
    "The [United Nations Refugee Agency](http://data2.unhcr.org/en/situations) exposes their [Mediteranean refugee resposne data](http://data.unhcr.org/mediterranean/regional.php) as open, web-based data services. This data API can be accessed on the open Internet and their [API Documentation](http://data.unhcr.org/wiki/index.php/API_Documentation.html) details how to access statistics such as population, demographics, arrivals by location, and more.\n",
    "\n",
    "Among the data UNHCR provides access to is the number of refugees arriving monthly to [Itlay, Greece, Malta, and Spain](http://data.unhcr.org/wiki/index.php/Get-stats-mediterranean-monthly-arrivals-by-country.html). This data can be accessed in JSON (JavaScript Object Notation) form and a typical call to this data service access point looks like ![sdf](https://esri.box.com/shared/static/qlggqpwe4wa3zl20nlamwhq4dnkuxn26.jpg) \n",
    "\n",
    "In the data, there are fields for the _country_, _year_, _month_, _day_, and _value_.  The _value_ field is the number of refugees that arrived during that month.\n",
    "\n",
    "In this exercise we'll learn how to use Python to get the data, parse the data, import the data to a table in a geodatabase, and then join the data to a feature class so it can be further analyzed in ArcGIS."
   ]
  },
  {
   "cell_type": "markdown",
   "metadata": {},
   "source": [
    "## Getting the Data with URLLIB2\n",
    "\n",
    "[urllib2 is a Python module that can be used for fetching URLs. It defines functions and classes to help with URL actions (basic and digest authentication, redirections, cookies, etc).](http://www.pythonforbeginners.com/urllib2/how-to-use-urllib2-in-python) In this exercise, you will learn how to use _urllib2_ to retrieve [JSON](http://www.json.org/) from the UNHCR that includes statistics concerning refugee arrivals in Greece, Itlay, Spain, and Malta. Let's start by importing _urllib2_."
   ]
  },
  {
   "cell_type": "code",
   "execution_count": null,
   "metadata": {
    "collapsed": false
   },
   "outputs": [],
   "source": [
    "import urllib2"
   ]
  },
  {
   "cell_type": "markdown",
   "metadata": {},
   "source": [
    "Let's import the [_json_](https://docs.python.org/2/library/json.html) package too. This will allow us to decode the json returned from UNHCR."
   ]
  },
  {
   "cell_type": "code",
   "execution_count": null,
   "metadata": {
    "collapsed": true
   },
   "outputs": [],
   "source": [
    "import json"
   ]
  },
  {
   "cell_type": "markdown",
   "metadata": {},
   "source": [
    "Let's also import _os_ because we will be creating creating new data on our operating system."
   ]
  },
  {
   "cell_type": "code",
   "execution_count": null,
   "metadata": {
    "collapsed": true
   },
   "outputs": [],
   "source": [
    "import os"
   ]
  },
  {
   "cell_type": "markdown",
   "metadata": {},
   "source": [
    "Now that we've imported the necessary modules, let's start see how we can get the UNHCR immigration statistics.  The URL for the statistics is [http://data.unhcr.org/api/stats/mediterranean/monthly_arrivals_by_country.json?](http://data.unhcr.org/api/stats/mediterranean/monthly_arrivals_by_country.json?). Go to the URL.\n",
    "\n",
    "We can bring that data into Python using _urllib2_ and _json_. To do it, execute the following code."
   ]
  },
  {
   "cell_type": "code",
   "execution_count": null,
   "metadata": {
    "collapsed": true
   },
   "outputs": [],
   "source": [
    "## Get all immigration data\n",
    "url = 'http://data.unhcr.org/api/stats/mediterranean/monthly_arrivals_by_country.json?'\n",
    "data = urllib2.urlopen(url)\n",
    "imm_data = json.load(data)\n",
    "print(imm_data)"
   ]
  },
  {
   "cell_type": "markdown",
   "metadata": {},
   "source": [
    "This will return all of the UNHCR's data for monthly arrivals by country. We can modify the results we get back by modifying the json query string.\n",
    "\n",
    "For example, if we only wanted immigration statistics from Greece for the year 2016, our URL could be modified to http://data.unhcr.org/api/stats/mediterranean/monthly_arrivals_by_country.json?year=2016&country=GRE. Let's see what that looks like in Python. Execute the following code."
   ]
  },
  {
   "cell_type": "code",
   "execution_count": null,
   "metadata": {
    "collapsed": true
   },
   "outputs": [],
   "source": [
    "## Get only Greece from 2014\n",
    "country = 'GRE'\n",
    "year = 2016\n",
    "url =  'http://data.unhcr.org/api/stats/mediterranean/monthly_arrivals_by_country.json?year=%s&country=%s' % (year, country)\n",
    "data = urllib2.urlopen(url)\n",
    "imm_data = json.load(data)\n",
    "print(imm_data)"
   ]
  },
  {
   "cell_type": "markdown",
   "metadata": {},
   "source": [
    "We could also modify our query to return the statistics for all four countries for January of the year 2016. Execute the following code to see how this is done. "
   ]
  },
  {
   "cell_type": "code",
   "execution_count": null,
   "metadata": {
    "collapsed": true
   },
   "outputs": [],
   "source": [
    "## Get only Greece from 2014\n",
    "#country = 'GRE'\n",
    "year = 2016\n",
    "month = 1\n",
    "url =  'http://data.unhcr.org/api/stats/mediterranean/monthly_arrivals_by_country.json?year=%s&month=%s' % (year, month)\n",
    "data = urllib2.urlopen(url)\n",
    "imm_data = json.load(data)\n",
    "print(imm_data)"
   ]
  },
  {
   "cell_type": "markdown",
   "metadata": {},
   "source": [
    "This is how you can bring the UNHCR data in as JSON. Let's learn how to parse it into an array that we can then insert into a table using cursors."
   ]
  },
  {
   "cell_type": "markdown",
   "metadata": {},
   "source": [
    "## Parsing the Data\n",
    "\n",
    "Parsing JSON data is very easy; it is similar to working with a [Python dictionary](https://www.tutorialspoint.com/python/python_dictionary.htm). Here, we will parse the into a Python array. This can be done as follows."
   ]
  },
  {
   "cell_type": "code",
   "execution_count": null,
   "metadata": {
    "collapsed": true
   },
   "outputs": [],
   "source": [
    "## Parsing the data into an array\n",
    "json_rows = []\n",
    "for row in enumerate(imm_data):\n",
    "    temp = (row[1]['country_en'], row[1]['value'])\n",
    "    json_rows.append(temp)"
   ]
  },
  {
   "cell_type": "markdown",
   "metadata": {},
   "source": [
    "We will eventually insert this data into a table and join that table to some country polygons, but first, we need to create a geodatabase and table into which we will insert the table."
   ]
  },
  {
   "cell_type": "markdown",
   "metadata": {},
   "source": [
    "## Create Table\n",
    "\n",
    "Here, we will use _arcpy_ to create a geodatabase and table. This table will be the table into which we insert the immigration statistics. Execute the following code:"
   ]
  },
  {
   "cell_type": "code",
   "execution_count": null,
   "metadata": {
    "collapsed": true
   },
   "outputs": [],
   "source": [
    "import arcpy\n",
    "\n",
    "gdb = r\"C:\\Users\\greg6750\\Documents\\IPython Notebooks\\Python_for_GIS_and_RS\\Week_7\\data\\unhcr.gdb\"\n",
    "fields = ('COUNTRY', 'VALUE') #fields for the table\n",
    "tablename = \"immigration_stats_\" + str(month) + \"_\" + str(year)\n",
    "gdb_and_table = os.path.join(gdb, tablename)\n",
    "\n",
    "if arcpy.Exists(gdb):\n",
    "    print(gdb +  \" already exists.\")\n",
    "else:\n",
    "    print(\"Creating \" + gdb)\n",
    "    arcpy.CreateFileGDB_management(os.path.split(gdb)[0], os.path.basename(gdb))\n",
    "\n",
    "if arcpy.Exists(os.path.join(gdb, tablename)):\n",
    "    print('Table Exists')\n",
    "else:\n",
    "    print('Creating Table.')\n",
    "    arcpy.CreateTable_management(gdb, tablename)\n",
    "\n",
    "    ## Add fields to table\n",
    "    arcpy.AddField_management(gdb_and_table, fields[0], 'TEXT', \"\", \"\", 48)\n",
    "    arcpy.AddField_management(gdb_and_table, fields[1], \"LONG\", \"\", \"\", \"\")"
   ]
  },
  {
   "cell_type": "markdown",
   "metadata": {},
   "source": [
    "Notice how we are using Exists to check and see whether the geodatabase and table already exist."
   ]
  },
  {
   "cell_type": "markdown",
   "metadata": {},
   "source": [
    "## Inserting the Data into a Table\n",
    "\n",
    "Now that we have a table, we can very easily insert our statistics using the [InsertCursor](http://pro.arcgis.com/en/pro-app/arcpy/data-access/insertcursor-class.htm). Let's insert the json_rows data into the table. In order to do that, execute the following code:"
   ]
  },
  {
   "cell_type": "code",
   "execution_count": null,
   "metadata": {
    "collapsed": true
   },
   "outputs": [],
   "source": [
    "## Insert data into table\n",
    "c = arcpy.da.InsertCursor(gdb_and_table,fields)\n",
    "for row in json_rows:\n",
    "    print(row)\n",
    "    c.insertRow(row)\n",
    "del c"
   ]
  },
  {
   "cell_type": "markdown",
   "metadata": {},
   "source": [
    "## Joining the Table to a Feature Class\n",
    "\n",
    "Now that we have the data in a table, let's join the table to a country feature class. In the Week_5\\data folder, there is a countries.gdb geodatabase. In the geodatabase, there is a feature class named _med_ that contains polygons for Greece, Italy, Spain, and Malta.  \n",
    "\n",
    "We are going to Copy that _med_ feature class to a new feature class using [Copy Features](http://pro.arcgis.com/en/pro-app/tool-reference/data-management/copy-features.htm). Then we will join the table we created above to the copied features using [Join Field](http://pro.arcgis.com/en/pro-app/tool-reference/data-management/join-field.htm). Here is what that looks like. Execute the following code>"
   ]
  },
  {
   "cell_type": "code",
   "execution_count": null,
   "metadata": {
    "collapsed": true
   },
   "outputs": [],
   "source": [
    "## Join Table to Existing feature class\n",
    "country_fc = r'C:\\Users\\greg6750\\Documents\\IPython Notebooks\\Python_for_GIS_and_RS\\Week_7\\data\\countries.gdb\\med'\n",
    "new_country_fc = country_fc+'_imm_stats_' + str(month) + '_' + str(year)\n",
    "\n",
    "country_join_field = 'TextString'\n",
    "\n",
    "arcpy.CopyFeatures_management(country_fc, new_country_fc)\n",
    "arcpy.JoinField_management(new_country_fc, country_join_field, gdb_and_table, fields[0])"
   ]
  },
  {
   "cell_type": "markdown",
   "metadata": {
    "collapsed": true
   },
   "source": [
    "## Homework: Write a script that performs the above for every month in the year 2016 for Greece, Italy, Spain, and Malta. This can be done by:\n",
    "- Take the code above and convert it to a single script.\n",
    "- change the month variable to months and set it equal to an array of values from 1 - 12.\n",
    "- Run the above analysis for every month in months as follows:"
   ]
  },
  {
   "cell_type": "code",
   "execution_count": null,
   "metadata": {
    "collapsed": false
   },
   "outputs": [],
   "source": [
    "months = [1,2,3,4,5,6,7,8,9,10,11,12]\n",
    "for month in months:\n",
    "    print(\"HERE IS WHERE YOU EXECUTE THE UNHCR ANALYSIS.\")"
   ]
  },
  {
   "cell_type": "markdown",
   "metadata": {},
   "source": [
    "## Please submit the script above as todays in-class assignment."
   ]
  }
 ],
 "metadata": {
  "anaconda-cloud": {},
  "kernelspec": {
   "display_name": "Python 3",
   "language": "python",
   "name": "python3"
  },
  "language_info": {
   "codemirror_mode": {
    "name": "ipython",
    "version": 3
   },
   "file_extension": ".py",
   "mimetype": "text/x-python",
   "name": "python",
   "nbconvert_exporter": "python",
   "pygments_lexer": "ipython3",
   "version": "3.5.2"
  }
 },
 "nbformat": 4,
 "nbformat_minor": 1
}
