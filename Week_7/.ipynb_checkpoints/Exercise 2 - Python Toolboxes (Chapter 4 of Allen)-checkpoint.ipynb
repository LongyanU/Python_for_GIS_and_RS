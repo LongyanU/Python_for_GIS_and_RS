{
 "cells": [
  {
   "cell_type": "markdown",
   "metadata": {},
   "source": [
    "# Exercise 2 - Python Toolboxes (Chapter 4 of Allen)\n",
    "\n",
    "For the second exercise, we will create a [Python toolbox](http://desktop.arcgis.com/en/arcmap/10.3/analyze/creating-tools/a-quick-tour-of-python-toolboxes.htm) and add a Python tool to it.  The Python toolbox is an alternative to the script tool and is geared toward developers who want to create the entire toolbox through Python, rather than through the ArcGIS toolbox UI.\n",
    "\n",
    "For this exercise, you will go through pages 171 through 183 of the [GIS Scripting for Python Tutorial by Allen](http://esripress.esri.com/display/index.cfm?fuseaction=display&websiteID=256). As always, if you have any questions, do not hesitate to ask."
   ]
  },
  {
   "cell_type": "code",
   "execution_count": null,
   "metadata": {
    "collapsed": true
   },
   "outputs": [],
   "source": []
  }
 ],
 "metadata": {
  "anaconda-cloud": {},
  "kernelspec": {
   "display_name": "Python [default]",
   "language": "python",
   "name": "python3"
  },
  "language_info": {
   "codemirror_mode": {
    "name": "ipython",
    "version": 3
   },
   "file_extension": ".py",
   "mimetype": "text/x-python",
   "name": "python",
   "nbconvert_exporter": "python",
   "pygments_lexer": "ipython3",
   "version": "3.4.5"
  }
 },
 "nbformat": 4,
 "nbformat_minor": 1
}
