{
 "cells": [
  {
   "cell_type": "markdown",
   "metadata": {},
   "source": [
    "# Exercise 2 - Working with JSON"
   ]
  },
  {
   "cell_type": "markdown",
   "metadata": {},
   "source": [
    "The [United Nations Refugee Agency](http://data2.unhcr.org/en/situations) exposes their [Mediteranean refugee resposne data](http://data.unhcr.org/mediterranean/regional.php) as open, web-based data services. This data API can be accessed on the open Internet and their [API Documentation](http://data.unhcr.org/wiki/index.php/API_Documentation.html) details how to access statistics such as population, demographics, arrivals by location, and more. It is vital that NGA develop and iplement automated methods to retrieve and anlyze this data in order to understand current refugee crisis. In this post, we will detail how we used Python to retrieve and analyze monthly refugee arrivals by Mediteranean country from the UNHCR's data service.\n",
    "\n",
    "UNHCR provides access to number of refugees arriving monthly to [Itlay, Greece, Malta, and Spain](http://data.unhcr.org/wiki/index.php/Get-stats-mediterranean-monthly-arrivals-by-country.html). This data can be accessed in JSON (JavaScript Object Notation) form and a typical call to this data service access point looks like ![sdf](https://esri.box.com/shared/static/qlggqpwe4wa3zl20nlamwhq4dnkuxn26.jpg) \n",
    "\n",
    "In the data, there are fields for the _country_, _year_, _month_, _day_, and _value_.  The _value_ field is the number of refugees that arrived during that month.\n",
    "\n",
    "In this exercise we'll learn how to use Python to get the data, parse the data, import the data to a table in a geodatabase, and then join the data to a feature class so it can be further analyzed in ArcGIS."
   ]
  },
  {
   "cell_type": "markdown",
   "metadata": {},
   "source": [
    "## Getting the Data with URLLIB2"
   ]
  },
  {
   "cell_type": "code",
   "execution_count": null,
   "metadata": {
    "collapsed": true
   },
   "outputs": [],
   "source": [
    "import urllib2\n",
    "import json\n",
    "import os"
   ]
  },
  {
   "cell_type": "code",
   "execution_count": null,
   "metadata": {
    "collapsed": true
   },
   "outputs": [],
   "source": [
    "## Get all immigration data\n",
    "url = 'http://data.unhcr.org/api/stats/mediterranean/monthly_arrivals_by_country.json?'\n",
    "data = urllib2.urlopen(url)\n",
    "imm_data = json.load(data)\n",
    "print(imm_data)"
   ]
  },
  {
   "cell_type": "code",
   "execution_count": null,
   "metadata": {
    "collapsed": true
   },
   "outputs": [],
   "source": [
    "## Get only Greece from 2014\n",
    "country = 'GRE'\n",
    "year = 2016\n",
    "url =  'http://data.unhcr.org/api/stats/mediterranean/monthly_arrivals_by_country.json?year=%s&country=%s' % (year, country)\n",
    "data = urllib2.urlopen(url)\n",
    "imm_data = json.load(data)\n",
    "print(imm_data)"
   ]
  },
  {
   "cell_type": "code",
   "execution_count": null,
   "metadata": {
    "collapsed": true
   },
   "outputs": [],
   "source": [
    "## Get only Greece from 2014\n",
    "#country = 'GRE'\n",
    "year = 2016\n",
    "month = 1\n",
    "url =  'http://data.unhcr.org/api/stats/mediterranean/monthly_arrivals_by_country.json?year=%s&month=%s' % (year, month)\n",
    "data = urllib2.urlopen(url)\n",
    "imm_data = json.load(data)\n",
    "print(imm_data)"
   ]
  },
  {
   "cell_type": "markdown",
   "metadata": {},
   "source": [
    "## Parsing the Data"
   ]
  },
  {
   "cell_type": "code",
   "execution_count": null,
   "metadata": {
    "collapsed": true
   },
   "outputs": [],
   "source": [
    "## Parsing the data into an array\n",
    "json_rows = []\n",
    "for row in enumerate(imm_data):\n",
    "    temp = (row[1]['country_en'], row[1]['value'])\n",
    "    json_rows.append(temp)\n",
    "    #print(temp)"
   ]
  },
  {
   "cell_type": "markdown",
   "metadata": {},
   "source": [
    "## Create Table"
   ]
  },
  {
   "cell_type": "code",
   "execution_count": 2,
   "metadata": {
    "collapsed": true
   },
   "outputs": [],
   "source": [
    "import arcpy"
   ]
  },
  {
   "cell_type": "code",
   "execution_count": null,
   "metadata": {
    "collapsed": true
   },
   "outputs": [],
   "source": [
    "gdb = r\"C:\\Users\\greg6750\\Documents\\IPython Notebooks\\Python_for_GIS_and_RS\\Week_5\\data\\unhcr.gdb\"\n",
    "#arcpy.env.workspace = gdb\n",
    "tablename = \"immigration_stats_\" + str(month) + \"_\" + str(year)\n",
    "gdb_and_table = os.path.join(gdb, tablename)\n",
    "\n",
    "if arcpy.Exists(gdb):\n",
    "    print(gdb +  \" already exists.\")\n",
    "else:\n",
    "    print(\"Creating \" + gdb)\n",
    "    arcpy.CreateFileGDB_management(os.path.split(gdb)[0], os.path.basename(gdb))\n",
    "\n",
    "if arcpy.Exists(os.path.join(gdb, tablename)):\n",
    "    print('Table Exists')\n",
    "else:\n",
    "    print('Creating Table.')\n",
    "    arcpy.CreateTable_management(gdb, tablename)\n",
    "\n",
    "    ## Add fields to table\n",
    "    fields = ('COUNTRY', 'VALUE')\n",
    "    arcpy.AddField_management(gdb_and_table, fields[0], 'TEXT', \"\", \"\", 48)\n",
    "    arcpy.AddField_management(gdb_and_table, fields[1], \"LONG\", \"\", \"\", \"\")"
   ]
  },
  {
   "cell_type": "markdown",
   "metadata": {},
   "source": [
    "## Inserting the Data into a Table"
   ]
  },
  {
   "cell_type": "code",
   "execution_count": null,
   "metadata": {
    "collapsed": true
   },
   "outputs": [],
   "source": [
    "## Insert data into table\n",
    "c = arcpy.da.InsertCursor(gdb_and_table,fields)\n",
    "for row in json_rows:\n",
    "    print(row)\n",
    "    c.insertRow(row)\n",
    "del c"
   ]
  },
  {
   "cell_type": "markdown",
   "metadata": {},
   "source": [
    "## Joining the Table to a Feature Class"
   ]
  },
  {
   "cell_type": "code",
   "execution_count": null,
   "metadata": {
    "collapsed": true
   },
   "outputs": [],
   "source": [
    "## Join Table to Existing feature class\n",
    "country_fc = r'C:\\Users\\greg6750\\Documents\\IPython Notebooks\\Python_for_GIS_and_RS\\Week_5\\data\\countries.gdb\\med'\n",
    "country_join_field = 'NAME'\n",
    "arcpy.JoinField_management (country_fc, country_join_field, gdb_and_table, fields[0])"
   ]
  },
  {
   "cell_type": "markdown",
   "metadata": {
    "collapsed": true
   },
   "source": [
    "## Putting This Together into a Single Script"
   ]
  },
  {
   "cell_type": "code",
   "execution_count": null,
   "metadata": {
    "collapsed": true
   },
   "outputs": [],
   "source": []
  }
 ],
 "metadata": {
  "anaconda-cloud": {},
  "kernelspec": {
   "display_name": "Python [default]",
   "language": "python",
   "name": "python3"
  },
  "language_info": {
   "codemirror_mode": {
    "name": "ipython",
    "version": 3
   },
   "file_extension": ".py",
   "mimetype": "text/x-python",
   "name": "python",
   "nbconvert_exporter": "python",
   "pygments_lexer": "ipython3",
   "version": "3.4.5"
  }
 },
 "nbformat": 4,
 "nbformat_minor": 1
}
