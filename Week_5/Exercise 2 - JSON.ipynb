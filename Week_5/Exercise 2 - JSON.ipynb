{
 "cells": [
  {
   "cell_type": "markdown",
   "metadata": {},
   "source": [
    "# Exercise 2 - Working with JSON"
   ]
  },
  {
   "cell_type": "markdown",
   "metadata": {},
   "source": [
    "The [United Nations Refugee Agency](http://data2.unhcr.org/en/situations) exposes their [Mediteranean refugee resposne data](http://data.unhcr.org/mediterranean/regional.php) as open, web-based data services. This data API can be accessed on the open Internet and their [API Documentation](http://data.unhcr.org/wiki/index.php/API_Documentation.html) details how to access statistics such as population, demographics, arrivals by location, and more. It is vital that NGA develop and iplement automated methods to retrieve and anlyze this data in order to understand current refugee crisis. In this post, we will detail how we used Python to retrieve and analyze monthly refugee arrivals by Mediteranean country from the UNHCR's data service.\n",
    "\n",
    "UNHCR provides access to number of refugees arriving monthly to [Itlay, Greece, Malta, and Spain](http://data.unhcr.org/wiki/index.php/Get-stats-mediterranean-monthly-arrivals-by-country.html). This data can be accessed in JSON (JavaScript Object Notation) form and a typical call to this data service access point looks like ![sdf](https://esri.box.com/shared/static/qlggqpwe4wa3zl20nlamwhq4dnkuxn26.jpg) \n",
    "\n",
    "In the data, there are fields for the _country_, _year_, _month_, _day_, and _value_.  The _value_ field is the number of refugees that arrived during that month.\n",
    "\n",
    "In this exercise we'll learn how to use Python to get the data, parse the data, import the data to a table in a geodatabase, and then join the data to a feature class so it can be further analyzed in ArcGIS."
   ]
  },
  {
   "cell_type": "markdown",
   "metadata": {},
   "source": [
    "## Getting the Data with URLLIB2"
   ]
  },
  {
   "cell_type": "markdown",
   "metadata": {},
   "source": [
    "## Parsing the Data"
   ]
  },
  {
   "cell_type": "markdown",
   "metadata": {},
   "source": [
    "## Inserting the Data into a Table"
   ]
  },
  {
   "cell_type": "markdown",
   "metadata": {},
   "source": [
    "## Joining the Table to a Feature Class"
   ]
  },
  {
   "cell_type": "code",
   "execution_count": null,
   "metadata": {
    "collapsed": true
   },
   "outputs": [],
   "source": []
  }
 ],
 "metadata": {
  "anaconda-cloud": {},
  "kernelspec": {
   "display_name": "Python [default]",
   "language": "python",
   "name": "python3"
  },
  "language_info": {
   "codemirror_mode": {
    "name": "ipython",
    "version": 3
   },
   "file_extension": ".py",
   "mimetype": "text/x-python",
   "name": "python",
   "nbconvert_exporter": "python",
   "pygments_lexer": "ipython3",
   "version": "3.4.5"
  }
 },
 "nbformat": 4,
 "nbformat_minor": 1
}
