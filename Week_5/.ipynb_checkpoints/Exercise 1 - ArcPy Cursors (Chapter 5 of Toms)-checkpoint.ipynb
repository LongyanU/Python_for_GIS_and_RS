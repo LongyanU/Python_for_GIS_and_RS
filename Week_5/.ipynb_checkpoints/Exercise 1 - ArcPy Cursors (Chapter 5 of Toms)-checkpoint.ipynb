{
 "cells": [
  {
   "cell_type": "markdown",
   "metadata": {},
   "source": [
    "# Exercise 1 - ArcPy Cursors: Search, Insert, and Update\n",
    "\n",
    "The first exercise we'll due this week is Chatper 5 from Toms. If you have any questions, don't hesitate to ask."
   ]
  }
 ],
 "metadata": {
  "anaconda-cloud": {},
  "kernelspec": {
   "display_name": "Python [default]",
   "language": "python",
   "name": "python3"
  },
  "language_info": {
   "codemirror_mode": {
    "name": "ipython",
    "version": 3
   },
   "file_extension": ".py",
   "mimetype": "text/x-python",
   "name": "python",
   "nbconvert_exporter": "python",
   "pygments_lexer": "ipython3",
   "version": "3.4.5"
  }
 },
 "nbformat": 4,
 "nbformat_minor": 1
}
