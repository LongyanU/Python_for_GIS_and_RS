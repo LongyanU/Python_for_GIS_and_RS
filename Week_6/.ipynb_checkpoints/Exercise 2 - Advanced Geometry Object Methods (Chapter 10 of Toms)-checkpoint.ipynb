{
 "cells": [
  {
   "cell_type": "markdown",
   "metadata": {
    "collapsed": true
   },
   "source": [
    "# Exercise 2 - Advanced Geometry Object Methods\n",
    "\n",
    "Time permitting, I would like us to just right into Chapter 10 of Toms and pickup on learning more advanced geometry operations. In addition to covering more on the topic of geometries, Chapter 10 introduces you to creating your own Python module. This will be beneficial to those of you who will continue using Python beyond this class becuase eventually you will likely want to redistribute some code that you have written as a Python module. As always, if you have any questions, do not hesitate to ask me. My hope is that we can get through this exercise during class. If that is not possible, let me know and we will adjust the plan."
   ]
  }
 ],
 "metadata": {
  "anaconda-cloud": {},
  "kernelspec": {
   "display_name": "Python [default]",
   "language": "python",
   "name": "python3"
  },
  "language_info": {
   "codemirror_mode": {
    "name": "ipython",
    "version": 3
   },
   "file_extension": ".py",
   "mimetype": "text/x-python",
   "name": "python",
   "nbconvert_exporter": "python",
   "pygments_lexer": "ipython3",
   "version": "3.4.5"
  }
 },
 "nbformat": 4,
 "nbformat_minor": 1
}
