{
 "cells": [
  {
   "cell_type": "markdown",
   "metadata": {
    "collapsed": true
   },
   "source": [
    "# Exercise 1 - Working with ArcPy Geometry Objects\n",
    "\n",
    "For Exercise 1, we will work through Chapter 6 of Toms, _Working with ArcPy Geometry Objects_. Not only will you learn geometries in this section, you will also learn how to retrieve them using the da.SearchCursor, thus picking up on what you learned last week. As always, if you have any questions, do not hesitate to ask me."
   ]
  },
  {
   "cell_type": "markdown",
   "metadata": {},
   "source": [
    "Here is a link to the [arcpy Geometry help page](http://desktop.arcgis.com/en/arcmap/10.3/analyze/arcpy-classes/geometry.htm) for your convenience. For more info on [Point](http://desktop.arcgis.com/en/arcmap/10.3/analyze/arcpy-classes/point.htm), [Polyline](http://desktop.arcgis.com/en/arcmap/10.3/analyze/arcpy-classes/polyline.htm), and [Polygon](http://desktop.arcgis.com/en/arcmap/10.3/analyze/arcpy-classes/polygon.htm) geometries, click go to the respective page."
   ]
  },
  {
   "cell_type": "code",
   "execution_count": 8,
   "metadata": {
    "collapsed": false
   },
   "outputs": [
    {
     "data": {
      "text/html": [
       "\n",
       "        <iframe\n",
       "            width=\"100%\"\n",
       "            height=\"500\"\n",
       "            src=\"http://desktop.arcgis.com/en/arcmap/10.3/analyze/arcpy-classes/geometry.htm\"\n",
       "            frameborder=\"0\"\n",
       "            allowfullscreen\n",
       "        ></iframe>\n",
       "        "
      ],
      "text/plain": [
       "<IPython.lib.display.IFrame at 0x5818cc0>"
      ]
     },
     "execution_count": 8,
     "metadata": {},
     "output_type": "execute_result"
    }
   ],
   "source": [
    "from IPython.display import IFrame\n",
    "IFrame('http://desktop.arcgis.com/en/arcmap/10.3/analyze/arcpy-classes/geometry.htm', '100%', 500)"
   ]
  },
  {
   "cell_type": "code",
   "execution_count": null,
   "metadata": {
    "collapsed": true
   },
   "outputs": [],
   "source": []
  }
 ],
 "metadata": {
  "anaconda-cloud": {},
  "kernelspec": {
   "display_name": "Python [default]",
   "language": "python",
   "name": "python3"
  },
  "language_info": {
   "codemirror_mode": {
    "name": "ipython",
    "version": 3
   },
   "file_extension": ".py",
   "mimetype": "text/x-python",
   "name": "python",
   "nbconvert_exporter": "python",
   "pygments_lexer": "ipython3",
   "version": "3.4.5"
  }
 },
 "nbformat": 4,
 "nbformat_minor": 1
}
