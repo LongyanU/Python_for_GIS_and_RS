{
 "cells": [
  {
   "cell_type": "markdown",
   "metadata": {},
   "source": [
    "# Homework\n",
    "\n",
    "The Bermuda triangle [is a loosely-defined region in the western part of the North Atlantic Ocean, where a number of aircraft and ships are said to have disappeared under mysterious circumstances](https://en.wikipedia.org/wiki/Bermuda_Triangle). The vertices of the triangle correspond roughly to [Miami, FL: (-80.226529, 25.789106), San Juan, PR: (-66.1057427, 18.4663188), Hamilton, Bermuda: (-64.781380, 32.294887)](http://robertkaplinsky.com/work/bermuda-triangle/). Using what you have just learned about geometries, write a Python script that creates a Bermuda Triangle feature class and populates it with a single features that represents the Bermuda Triangle based on the coordinates listed above."
   ]
  }
 ],
 "metadata": {
  "anaconda-cloud": {},
  "kernelspec": {
   "display_name": "Python [default]",
   "language": "python",
   "name": "python3"
  },
  "language_info": {
   "codemirror_mode": {
    "name": "ipython",
    "version": 3
   },
   "file_extension": ".py",
   "mimetype": "text/x-python",
   "name": "python",
   "nbconvert_exporter": "python",
   "pygments_lexer": "ipython3",
   "version": "3.4.5"
  }
 },
 "nbformat": 4,
 "nbformat_minor": 1
}
